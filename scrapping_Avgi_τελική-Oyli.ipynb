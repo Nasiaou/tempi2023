{
  "nbformat": 4,
  "nbformat_minor": 0,
  "metadata": {
    "colab": {
      "provenance": []
    },
    "kernelspec": {
      "name": "python3",
      "display_name": "Python 3"
    },
    "language_info": {
      "name": "python"
    }
  },
  "cells": [
    {
      "cell_type": "code",
      "source": [
        "\n",
        "import requests\n",
        "from bs4 import BeautifulSoup\n",
        "import pandas as pd\n",
        "import time\n",
        "\n",
        "\n",
        "import numpy as np\n",
        "\n",
        "\n",
        "import matplotlib.pyplot as plt\n",
        "\n",
        "\n",
        "import spacy"
      ],
      "metadata": {
        "id": "f9DaNo9AZ2EC"
      },
      "execution_count": 1,
      "outputs": []
    },
    {
      "cell_type": "code",
      "source": [
        "!python -m spacy download el_core_news_sm"
      ],
      "metadata": {
        "id": "jsYFDjF0dX23"
      },
      "execution_count": null,
      "outputs": []
    },
    {
      "cell_type": "code",
      "execution_count": 9,
      "metadata": {
        "id": "Jh9H_-Bc2-0r",
        "colab": {
          "base_uri": "https://localhost:8080/"
        },
        "outputId": "928a0f09-03b1-4bf9-eff0-0f3ab616a110"
      },
      "outputs": [
        {
          "output_type": "stream",
          "name": "stdout",
          "text": [
            "https://www.avgi.gr/search?keywords=%CF%84%CE%B5%CE%BC%CF%80%CE%B7&_wrapper_format=html&page=57\n"
          ]
        }
      ],
      "source": [
        "start_page = 57\n",
        "end_page = 84\n",
        "\n",
        "start_url = 'https://www.avgi.gr/search?keywords=%CF%84%CE%B5%CE%BC%CF%80%CE%B7&_wrapper_format=html&page='\n",
        "\n",
        "test_url = start_url + str(start_page)\n",
        "print(test_url)"
      ]
    },
    {
      "cell_type": "code",
      "execution_count": 10,
      "metadata": {
        "id": "wmLj79jMOHMI"
      },
      "outputs": [],
      "source": [
        "\n",
        "response = requests.get(test_url)\n",
        "doc = BeautifulSoup(response.text, 'html.parser')"
      ]
    },
    {
      "cell_type": "code",
      "source": [
        "teaser_articles_list = doc.find('div', {'class': 'horizontal-teasers'}).find_all('article')"
      ],
      "metadata": {
        "id": "yr5Gs0G9SHQU"
      },
      "execution_count": 11,
      "outputs": []
    },
    {
      "cell_type": "code",
      "source": [
        "teaser_articles_list[0]"
      ],
      "metadata": {
        "colab": {
          "base_uri": "https://localhost:8080/"
        },
        "id": "BEosFkhlS6Ns",
        "outputId": "c6fb50d9-ba1f-498d-83b5-d3d231b58cb0"
      },
      "execution_count": 12,
      "outputs": [
        {
          "output_type": "execute_result",
          "data": {
            "text/plain": [
              "<article class=\"horizontal-teaser left-back\"> <a href=\"/politiki/441613_metathesi-ton-eklogon-logo-tis-laikis-orgis\"> <figure> <img alt=\"133066940.jpg\" class=\"media__image media__element b-lazy\" data-src=\"/sites/default/files/styles/default_teaser/public/ftp-images/133066940.jpg?itok=Fs-oNNDm\" decoding=\"async\" height=\"200\" loading=\"lazy\" src=\"data:image/svg+xml;charset=utf-8,%3Csvg%20xmlns%3D'http%3A%2F%2Fwww.w3.org%2F2000%2Fsvg'%20viewBox%3D'0%200%201%201'%2F%3E\" typeof=\"foaf:Image\" width=\"300\"/> </figure><div class=\"horizontal-teaser__info\"><h4 class=\"double-title\"> Μαξίμου <span>/</span> <span>Μετάθεση των εκλογών λόγω της λαϊκής οργής</span></h4><div class=\"teaser-summary\"> Μεταθέτει τις κάλπες ο πρωθυπουργός, με την ελπίδα της άμβλυνσης της κοινωνικής οργής</div> <time class=\"default-date\" datetime=\"2023-03-08T09:13:52+02:00\"> 08.03.23 <span>07:30</span> </time></div> </a> </article>"
            ]
          },
          "metadata": {},
          "execution_count": 12
        }
      ]
    },
    {
      "cell_type": "code",
      "source": [
        "print(teaser_articles_list[0].prettify())"
      ],
      "metadata": {
        "colab": {
          "base_uri": "https://localhost:8080/"
        },
        "id": "yZ5WlMwiTIow",
        "outputId": "6a7a4b0c-d4ad-4fa3-d4a7-097f7f3a94bd"
      },
      "execution_count": 13,
      "outputs": [
        {
          "output_type": "stream",
          "name": "stdout",
          "text": [
            "<article class=\"horizontal-teaser left-back\">\n",
            " <a href=\"/politiki/441613_metathesi-ton-eklogon-logo-tis-laikis-orgis\">\n",
            "  <figure>\n",
            "   <img alt=\"133066940.jpg\" class=\"media__image media__element b-lazy\" data-src=\"/sites/default/files/styles/default_teaser/public/ftp-images/133066940.jpg?itok=Fs-oNNDm\" decoding=\"async\" height=\"200\" loading=\"lazy\" src=\"data:image/svg+xml;charset=utf-8,%3Csvg%20xmlns%3D'http%3A%2F%2Fwww.w3.org%2F2000%2Fsvg'%20viewBox%3D'0%200%201%201'%2F%3E\" typeof=\"foaf:Image\" width=\"300\"/>\n",
            "  </figure>\n",
            "  <div class=\"horizontal-teaser__info\">\n",
            "   <h4 class=\"double-title\">\n",
            "    Μαξίμου\n",
            "    <span>\n",
            "     /\n",
            "    </span>\n",
            "    <span>\n",
            "     Μετάθεση των εκλογών λόγω της λαϊκής οργής\n",
            "    </span>\n",
            "   </h4>\n",
            "   <div class=\"teaser-summary\">\n",
            "    Μεταθέτει τις κάλπες ο πρωθυπουργός, με την ελπίδα της άμβλυνσης της κοινωνικής οργής\n",
            "   </div>\n",
            "   <time class=\"default-date\" datetime=\"2023-03-08T09:13:52+02:00\">\n",
            "    08.03.23\n",
            "    <span>\n",
            "     07:30\n",
            "    </span>\n",
            "   </time>\n",
            "  </div>\n",
            " </a>\n",
            "</article>\n",
            "\n"
          ]
        }
      ]
    },
    {
      "cell_type": "code",
      "source": [
        "link = teaser_articles_list[0].find('a')['href']\n",
        "print(link)"
      ],
      "metadata": {
        "colab": {
          "base_uri": "https://localhost:8080/"
        },
        "id": "IhcC8tM6TMbv",
        "outputId": "e7db1d26-3ac0-4c5f-8c6f-69bd594d28db"
      },
      "execution_count": 14,
      "outputs": [
        {
          "output_type": "stream",
          "name": "stdout",
          "text": [
            "/politiki/441613_metathesi-ton-eklogon-logo-tis-laikis-orgis\n"
          ]
        }
      ]
    },
    {
      "cell_type": "code",
      "source": [
        "main_url = 'https://www.avgi.gr/'\n",
        "article_link = main_url + link\n",
        "print(article_link)"
      ],
      "metadata": {
        "colab": {
          "base_uri": "https://localhost:8080/"
        },
        "id": "Ba3SAbOCVWtJ",
        "outputId": "0c1c0e22-f91f-4dff-9169-2fd595c37870"
      },
      "execution_count": 15,
      "outputs": [
        {
          "output_type": "stream",
          "name": "stdout",
          "text": [
            "https://www.avgi.gr//politiki/441613_metathesi-ton-eklogon-logo-tis-laikis-orgis\n"
          ]
        }
      ]
    },
    {
      "cell_type": "code",
      "source": [
        "teasers_list = []\n",
        "\n",
        "for page_num in range(start_page, end_page):\n",
        "  page_url = start_url + str(page_num)\n",
        "  response = requests.get(page_url)\n",
        "  doc = BeautifulSoup(response.text, 'html.parser')\n",
        "\n",
        "\n",
        "  teaser_articles_list = doc.find('div', {'class': 'horizontal-teasers'}).find_all('article')\n",
        "\n",
        "\n",
        "  for teaser in teaser_articles_list:\n",
        "      story_dict = {}\n",
        "      try:\n",
        "\n",
        "\n",
        "        link = teaser.find('a')['href']\n",
        "\n",
        "\n",
        "        if link.startswith(\"http\"):\n",
        "          story_dict['url'] = link\n",
        "        else:\n",
        "          story_dict['url'] = main_url + link\n",
        "      except:\n",
        "        story_dict['url'] = ''\n",
        "        pass\n",
        "      teasers_list.append(story_dict)\n",
        "  time.sleep(1)"
      ],
      "metadata": {
        "id": "LWjgtgQwVnNg"
      },
      "execution_count": 16,
      "outputs": []
    },
    {
      "cell_type": "code",
      "source": [
        "avgi_teasers_df = pd.DataFrame(teasers_list)\n",
        "avgi_teasers_df"
      ],
      "metadata": {
        "colab": {
          "base_uri": "https://localhost:8080/",
          "height": 423
        },
        "id": "2utW3u6xWdGo",
        "outputId": "000a7a4f-0df5-432f-9982-32ce50282a56"
      },
      "execution_count": 17,
      "outputs": [
        {
          "output_type": "execute_result",
          "data": {
            "text/plain": [
              "                                                   url\n",
              "0    https://www.avgi.gr//politiki/441613_metathesi...\n",
              "1    https://www.avgi.gr//koinonia/441575_dekades-k...\n",
              "2    https://www.avgi.gr//koinonia/441566_pos-apofe...\n",
              "3    https://www.avgi.gr//koinonia/441565_i-elas-kl...\n",
              "4    https://www.avgi.gr//koinonia/441564_apergiako...\n",
              "..                                                 ...\n",
              "265  https://www.avgi.gr//koinonia/440913_i-politik...\n",
              "266  https://www.avgi.gr//koinonia/440912_koybenta-...\n",
              "267  https://www.avgi.gr//politiki/440910_adianoito...\n",
              "268  https://www.avgi.gr//koinonia/440909_tragiki-i...\n",
              "269  https://www.avgi.gr//koinonia/440908_den-leito...\n",
              "\n",
              "[270 rows x 1 columns]"
            ],
            "text/html": [
              "\n",
              "  <div id=\"df-1279a642-a2e1-4a66-8fcc-06911a2b80c5\">\n",
              "    <div class=\"colab-df-container\">\n",
              "      <div>\n",
              "<style scoped>\n",
              "    .dataframe tbody tr th:only-of-type {\n",
              "        vertical-align: middle;\n",
              "    }\n",
              "\n",
              "    .dataframe tbody tr th {\n",
              "        vertical-align: top;\n",
              "    }\n",
              "\n",
              "    .dataframe thead th {\n",
              "        text-align: right;\n",
              "    }\n",
              "</style>\n",
              "<table border=\"1\" class=\"dataframe\">\n",
              "  <thead>\n",
              "    <tr style=\"text-align: right;\">\n",
              "      <th></th>\n",
              "      <th>url</th>\n",
              "    </tr>\n",
              "  </thead>\n",
              "  <tbody>\n",
              "    <tr>\n",
              "      <th>0</th>\n",
              "      <td>https://www.avgi.gr//politiki/441613_metathesi...</td>\n",
              "    </tr>\n",
              "    <tr>\n",
              "      <th>1</th>\n",
              "      <td>https://www.avgi.gr//koinonia/441575_dekades-k...</td>\n",
              "    </tr>\n",
              "    <tr>\n",
              "      <th>2</th>\n",
              "      <td>https://www.avgi.gr//koinonia/441566_pos-apofe...</td>\n",
              "    </tr>\n",
              "    <tr>\n",
              "      <th>3</th>\n",
              "      <td>https://www.avgi.gr//koinonia/441565_i-elas-kl...</td>\n",
              "    </tr>\n",
              "    <tr>\n",
              "      <th>4</th>\n",
              "      <td>https://www.avgi.gr//koinonia/441564_apergiako...</td>\n",
              "    </tr>\n",
              "    <tr>\n",
              "      <th>...</th>\n",
              "      <td>...</td>\n",
              "    </tr>\n",
              "    <tr>\n",
              "      <th>265</th>\n",
              "      <td>https://www.avgi.gr//koinonia/440913_i-politik...</td>\n",
              "    </tr>\n",
              "    <tr>\n",
              "      <th>266</th>\n",
              "      <td>https://www.avgi.gr//koinonia/440912_koybenta-...</td>\n",
              "    </tr>\n",
              "    <tr>\n",
              "      <th>267</th>\n",
              "      <td>https://www.avgi.gr//politiki/440910_adianoito...</td>\n",
              "    </tr>\n",
              "    <tr>\n",
              "      <th>268</th>\n",
              "      <td>https://www.avgi.gr//koinonia/440909_tragiki-i...</td>\n",
              "    </tr>\n",
              "    <tr>\n",
              "      <th>269</th>\n",
              "      <td>https://www.avgi.gr//koinonia/440908_den-leito...</td>\n",
              "    </tr>\n",
              "  </tbody>\n",
              "</table>\n",
              "<p>270 rows × 1 columns</p>\n",
              "</div>\n",
              "      <button class=\"colab-df-convert\" onclick=\"convertToInteractive('df-1279a642-a2e1-4a66-8fcc-06911a2b80c5')\"\n",
              "              title=\"Convert this dataframe to an interactive table.\"\n",
              "              style=\"display:none;\">\n",
              "        \n",
              "  <svg xmlns=\"http://www.w3.org/2000/svg\" height=\"24px\"viewBox=\"0 0 24 24\"\n",
              "       width=\"24px\">\n",
              "    <path d=\"M0 0h24v24H0V0z\" fill=\"none\"/>\n",
              "    <path d=\"M18.56 5.44l.94 2.06.94-2.06 2.06-.94-2.06-.94-.94-2.06-.94 2.06-2.06.94zm-11 1L8.5 8.5l.94-2.06 2.06-.94-2.06-.94L8.5 2.5l-.94 2.06-2.06.94zm10 10l.94 2.06.94-2.06 2.06-.94-2.06-.94-.94-2.06-.94 2.06-2.06.94z\"/><path d=\"M17.41 7.96l-1.37-1.37c-.4-.4-.92-.59-1.43-.59-.52 0-1.04.2-1.43.59L10.3 9.45l-7.72 7.72c-.78.78-.78 2.05 0 2.83L4 21.41c.39.39.9.59 1.41.59.51 0 1.02-.2 1.41-.59l7.78-7.78 2.81-2.81c.8-.78.8-2.07 0-2.86zM5.41 20L4 18.59l7.72-7.72 1.47 1.35L5.41 20z\"/>\n",
              "  </svg>\n",
              "      </button>\n",
              "      \n",
              "  <style>\n",
              "    .colab-df-container {\n",
              "      display:flex;\n",
              "      flex-wrap:wrap;\n",
              "      gap: 12px;\n",
              "    }\n",
              "\n",
              "    .colab-df-convert {\n",
              "      background-color: #E8F0FE;\n",
              "      border: none;\n",
              "      border-radius: 50%;\n",
              "      cursor: pointer;\n",
              "      display: none;\n",
              "      fill: #1967D2;\n",
              "      height: 32px;\n",
              "      padding: 0 0 0 0;\n",
              "      width: 32px;\n",
              "    }\n",
              "\n",
              "    .colab-df-convert:hover {\n",
              "      background-color: #E2EBFA;\n",
              "      box-shadow: 0px 1px 2px rgba(60, 64, 67, 0.3), 0px 1px 3px 1px rgba(60, 64, 67, 0.15);\n",
              "      fill: #174EA6;\n",
              "    }\n",
              "\n",
              "    [theme=dark] .colab-df-convert {\n",
              "      background-color: #3B4455;\n",
              "      fill: #D2E3FC;\n",
              "    }\n",
              "\n",
              "    [theme=dark] .colab-df-convert:hover {\n",
              "      background-color: #434B5C;\n",
              "      box-shadow: 0px 1px 3px 1px rgba(0, 0, 0, 0.15);\n",
              "      filter: drop-shadow(0px 1px 2px rgba(0, 0, 0, 0.3));\n",
              "      fill: #FFFFFF;\n",
              "    }\n",
              "  </style>\n",
              "\n",
              "      <script>\n",
              "        const buttonEl =\n",
              "          document.querySelector('#df-1279a642-a2e1-4a66-8fcc-06911a2b80c5 button.colab-df-convert');\n",
              "        buttonEl.style.display =\n",
              "          google.colab.kernel.accessAllowed ? 'block' : 'none';\n",
              "\n",
              "        async function convertToInteractive(key) {\n",
              "          const element = document.querySelector('#df-1279a642-a2e1-4a66-8fcc-06911a2b80c5');\n",
              "          const dataTable =\n",
              "            await google.colab.kernel.invokeFunction('convertToInteractive',\n",
              "                                                     [key], {});\n",
              "          if (!dataTable) return;\n",
              "\n",
              "          const docLinkHtml = 'Like what you see? Visit the ' +\n",
              "            '<a target=\"_blank\" href=https://colab.research.google.com/notebooks/data_table.ipynb>data table notebook</a>'\n",
              "            + ' to learn more about interactive tables.';\n",
              "          element.innerHTML = '';\n",
              "          dataTable['output_type'] = 'display_data';\n",
              "          await google.colab.output.renderOutput(dataTable, element);\n",
              "          const docLink = document.createElement('div');\n",
              "          docLink.innerHTML = docLinkHtml;\n",
              "          element.appendChild(docLink);\n",
              "        }\n",
              "      </script>\n",
              "    </div>\n",
              "  </div>\n",
              "  "
            ]
          },
          "metadata": {},
          "execution_count": 17
        }
      ]
    },
    {
      "cell_type": "code",
      "source": [
        "avgi_teasers_df.to_csv('/content/drive/MyDrive/Colab Notebooks.csv', index=False)"
      ],
      "metadata": {
        "id": "FB4DruNwWrlv"
      },
      "execution_count": 18,
      "outputs": []
    },
    {
      "cell_type": "code",
      "source": [
        "article_url = 'https://www.avgi.gr/koinonia/440906_epi-12-lepta-kinoynto-stin-idia-grammi-anazitoyntai-eythynes-gia-tin-tragodia'"
      ],
      "metadata": {
        "id": "kvnaApqNYL1P"
      },
      "execution_count": 19,
      "outputs": []
    },
    {
      "cell_type": "code",
      "source": [
        "response = requests.get(article_url)\n",
        "doc = BeautifulSoup(response.text, 'html.parser')"
      ],
      "metadata": {
        "id": "rR7_qCIQYT2h"
      },
      "execution_count": 20,
      "outputs": []
    },
    {
      "cell_type": "code",
      "source": [
        "article = doc.find('div', {'class': 'article__main-content'})\n",
        "print(article.prettify())"
      ],
      "metadata": {
        "colab": {
          "base_uri": "https://localhost:8080/"
        },
        "id": "nzlDnyz7YYF3",
        "outputId": "caedaaef-6c10-4541-9c8e-132a4a4e9cce"
      },
      "execution_count": 22,
      "outputs": [
        {
          "output_type": "stream",
          "name": "stdout",
          "text": [
            "<div class=\"article__main-content\">\n",
            " <div class=\"article__teaser resize-font\">\n",
            "  Στο ΑΤ Λάρισας ο σταθμάρχης - Καταθέτουν επίσης ο κλειδούχος και εκπρόσωπος της Hellenic Train - Ο αρμόδιος εισαγγελέας θα κρίνει τι θα ακολουθήσει\n",
            " </div>\n",
            " <div attr-dropcap=\"Τ\" class=\"article__body resize-font\">\n",
            "  <p>\n",
            "   Τα αίτια και τις ευθύνες για την πολύνεκρη σύγκρουση τρένων που σημειώθηκε το βράδυ της Τρίτης στα Τέμπη προσπαθούν να διακριβώσουν οι Αρχές.\n",
            "  </p>\n",
            "  <p>\n",
            "   Η πληροφορία ότι η εμπορική αμαξοστοιχία που κινείτο προς τα νότια αντί να παραμείνει στην «κάθοδο», μετά την Λάρισα διακλαδώθηκε και πέρασε στην αντίθετη κατεύθυνση, την «άνοδο», έχει προκαλέσει προφανή ερωτήματα που ζητούν απάντηση.\n",
            "  </p>\n",
            "  <p>\n",
            "   Ακόμη περισσότερο προβληματίζουν οι πληροφορίες ότι μετά την λάθος διακλάδωση, επί 12 λεπτά περίπου οι δύο συρμοί βρίσκονταν στην ίδια γραμμή κινούμενοι αντίθετα, χωρίς κατά τα φαινόμενα να αντιληφθεί κανείς το παραμικρό.\n",
            "  </p>\n",
            "  <p>\n",
            "   Όπως έχει γίνει γνωστό, ήδη από το βράδυ οδηγήθηκε σε αστυνομικό τμήμα της Λάρισας ο σταθμάρχης του ΟΣΕ στην πόλη, όπως επίσης ο κλειδούχος αρμόδιος για την διαχείριση της ροής των συρμών, αλλά και εκπρόσωπος της Hellenic Train.\n",
            "  </p>\n",
            "  <p>\n",
            "   Δεν είναι σαφές αν υφίσταται θέμα με τον αριθμό των επιβαινόντων στην επιβατική αμαξοστοιχία με την οποία έγινε η σύγκρουση, στο ύψος των Τεμπών.\n",
            "  </p>\n",
            " </div>\n",
            " <div class=\"adv adv--full\" id=\"article_end\">\n",
            "  <script>\n",
            "   googletag.cmd.push(function() {\n",
            "googletag.display(\"article_end\");\n",
            "});\n",
            "  </script>\n",
            " </div>\n",
            " <div class=\"subscription-links\">\n",
            "  <a class=\"subscribe-avgi\" href=\"https://syndromes.avgi.gr/\" onclick=\"trackSubscriptionClick('https://syndromes.avgi.gr/', 'Syndromes');\" target=\"_blank\">\n",
            "   <span class=\"icon\">\n",
            "   </span>\n",
            "   Αποκτήστε συνδρομή στην έντυπη Αυγή\n",
            "  </a>\n",
            "  <a class=\"subscribe-google\" href=\"https://news.google.com/publications/CAAiEKqBAw84heT3hNIZ1aBG8LcqFAgKIhCqgQMPOIXk94TSGdWgRvC3?hl=el&amp;gl=GR&amp;ceid=GR%3Ael\" onclick=\"trackSubscriptionClick('https://news.google.com/publications/CAAiEKqBAw84heT3hNIZ1aBG8LcqFAgKIhCqgQMPOIXk94TSGdWgRvC3?hl=el&amp;gl=GR&amp;ceid=GR%3Ael', 'Google News');\" target=\"_blank\">\n",
            "   <span class=\"icon\">\n",
            "   </span>\n",
            "   Ακολουθήστε το Avgi.gr στο Google News\n",
            "  </a>\n",
            " </div>\n",
            " <ul class=\"article__tags\">\n",
            "  <li>\n",
            "   <a href=\"/tags/metafores\">\n",
            "    ΜΕΤΑΦΟΡΕΣ\n",
            "   </a>\n",
            "  </li>\n",
            " </ul>\n",
            "</div>\n",
            "\n"
          ]
        }
      ]
    },
    {
      "cell_type": "code",
      "source": [
        "section = doc.find('div', {'class': 'article__category'}).text\n",
        "section"
      ],
      "metadata": {
        "colab": {
          "base_uri": "https://localhost:8080/",
          "height": 35
        },
        "id": "MA_XjWD1ZLXv",
        "outputId": "35f013ba-92e9-446b-802f-b13f2315d507"
      },
      "execution_count": 23,
      "outputs": [
        {
          "output_type": "execute_result",
          "data": {
            "text/plain": [
              "' ΚΟΙΝΩΝΙΑ'"
            ],
            "application/vnd.google.colaboratory.intrinsic+json": {
              "type": "string"
            }
          },
          "metadata": {},
          "execution_count": 23
        }
      ]
    },
    {
      "cell_type": "code",
      "source": [
        "title = doc.find('h1',{'class':'double-title'}).text\n",
        "title"
      ],
      "metadata": {
        "colab": {
          "base_uri": "https://localhost:8080/",
          "height": 35
        },
        "id": "CDSphvR0Zs-e",
        "outputId": "cf771240-737a-47b2-d97d-8185f5b4e6a6"
      },
      "execution_count": 24,
      "outputs": [
        {
          "output_type": "execute_result",
          "data": {
            "text/plain": [
              "' Σύγκρουση τρένων στα Τέμπη / Επί 12 λεπτά κινούντο στην ίδια γραμμή - Αναζητούνται ευθύνες για την τραγωδία'"
            ],
            "application/vnd.google.colaboratory.intrinsic+json": {
              "type": "string"
            }
          },
          "metadata": {},
          "execution_count": 24
        }
      ]
    },
    {
      "cell_type": "code",
      "source": [
        "date = doc.find('time',{'class':'default-date'}).text\n",
        "date"
      ],
      "metadata": {
        "colab": {
          "base_uri": "https://localhost:8080/",
          "height": 35
        },
        "id": "kF1r7AYPaTTM",
        "outputId": "29edd9f2-c3ed-4b78-fba6-e1fd7a70fc4d"
      },
      "execution_count": 27,
      "outputs": [
        {
          "output_type": "execute_result",
          "data": {
            "text/plain": [
              "'01.03.23 07:46'"
            ],
            "application/vnd.google.colaboratory.intrinsic+json": {
              "type": "string"
            }
          },
          "metadata": {},
          "execution_count": 27
        }
      ]
    },
    {
      "cell_type": "code",
      "source": [
        "author = doc.find('a', {'class', \"article__author\"}).span.text\n",
        "author"
      ],
      "metadata": {
        "colab": {
          "base_uri": "https://localhost:8080/",
          "height": 35
        },
        "id": "W8j5afRnbCLA",
        "outputId": "5cfb1459-2fb1-4340-b3ae-5cd00c0cd310"
      },
      "execution_count": 28,
      "outputs": [
        {
          "output_type": "execute_result",
          "data": {
            "text/plain": [
              "'Αυγή Newsroom'"
            ],
            "application/vnd.google.colaboratory.intrinsic+json": {
              "type": "string"
            }
          },
          "metadata": {},
          "execution_count": 28
        }
      ]
    },
    {
      "cell_type": "code",
      "source": [
        "paragraphs = article.find_all('p')\n",
        "paragraphs"
      ],
      "metadata": {
        "colab": {
          "base_uri": "https://localhost:8080/"
        },
        "id": "BWnIl3lBbefW",
        "outputId": "acb849cc-cf86-4a6f-9ff8-94f9396fb8b6"
      },
      "execution_count": 29,
      "outputs": [
        {
          "output_type": "execute_result",
          "data": {
            "text/plain": [
              "[<p>Τα αίτια και τις ευθύνες για την πολύνεκρη σύγκρουση τρένων που σημειώθηκε το βράδυ της Τρίτης στα Τέμπη προσπαθούν να διακριβώσουν οι Αρχές.</p>,\n",
              " <p>Η πληροφορία ότι η εμπορική αμαξοστοιχία που κινείτο προς τα νότια αντί να παραμείνει στην «κάθοδο», μετά την Λάρισα διακλαδώθηκε και πέρασε στην αντίθετη κατεύθυνση, την «άνοδο», έχει προκαλέσει προφανή ερωτήματα που ζητούν απάντηση.</p>,\n",
              " <p>Ακόμη περισσότερο προβληματίζουν οι πληροφορίες ότι μετά την λάθος διακλάδωση, επί 12 λεπτά περίπου οι δύο συρμοί βρίσκονταν στην ίδια γραμμή κινούμενοι αντίθετα, χωρίς κατά τα φαινόμενα να αντιληφθεί κανείς το παραμικρό.</p>,\n",
              " <p>Όπως έχει γίνει γνωστό, ήδη από το βράδυ οδηγήθηκε σε αστυνομικό τμήμα της Λάρισας ο σταθμάρχης του ΟΣΕ στην πόλη, όπως επίσης ο κλειδούχος αρμόδιος για την διαχείριση της ροής των συρμών, αλλά και εκπρόσωπος της Hellenic Train.</p>,\n",
              " <p>Δεν είναι σαφές αν υφίσταται θέμα με τον αριθμό των επιβαινόντων στην επιβατική αμαξοστοιχία με την οποία έγινε η σύγκρουση, στο ύψος των Τεμπών.</p>]"
            ]
          },
          "metadata": {},
          "execution_count": 29
        }
      ]
    },
    {
      "cell_type": "code",
      "source": [
        "p_texts_list = []\n",
        "paragraphs = article.find_all('p')\n",
        "for p in paragraphs:\n",
        "  p_texts_list.append(p.text)\n",
        "full_text = ' '.join(p_texts_list)\n",
        "full_text = \"\".join(full_text.splitlines())\n",
        "full_text"
      ],
      "metadata": {
        "colab": {
          "base_uri": "https://localhost:8080/",
          "height": 191
        },
        "id": "L46Udqqqb89B",
        "outputId": "12260201-ef3f-4fa6-9ede-50e3d43be0ff"
      },
      "execution_count": 34,
      "outputs": [
        {
          "output_type": "execute_result",
          "data": {
            "text/plain": [
              "'Πολύ σοβαρές καταγγελίες για την κατάσταση διάλυσης στο σιδηροδρομικό δίκτυο της χώρας που συνέβαλε στην πολύνεκρη σιδηροδρομική τραγωδία στα Τέμπη έκανε μιλώντας στην κρατική τηλεόραση ο πρόεδρος των μηχανοδηγών του ΟΣΕ Κώστας Γενιδούνιας. Δύο τρένα βρέθηκαν στην ίδια γραμμή, το επιβατικό, το Interciry «ανέβαινε» προς Θεσσαλονίκη, το εμπορικό «κατέβαινε» προς Αθήνα, υπήρξε μετωπική σύγκρουση, όπως είπε. Το κεντρικό σύστημα που θα έπρεπε να διαχειρίζεται την ροή των συρμών «δεν λειτουργεί, δεν λειτουργεί τίποτα. Γίνονται όλα χειροκίνητα, με ανθρώπινο παράγοντα, manually. Σε αυτό το σημείο είμαστε σε όλο τον άξονα Αθήνα-Θεσσαλονίκη. Δεν λειτουργεί, όπως σας το λέω. Ούτε οι ενδείξεις, τα φωτοσήματα, ούτε ο έλεγχος της κυκλοφορίας. Αν αυτά λειτουργούσαν οι μηχανοδηγοί θα έβλεπαν την κόκκινη ένδειξη και τα τρένα θα σταμάταγαν σε απόσταση 500 μ. μεταξύ τους ... Φωνάζουμε, έχει μαλλιάσει η γλώσσα μας να το λέμε, τι να σας πω, δεν λειτουργεί». «Ο μηχανοδηγός παίρνει εντολές από τους σταθμάρχες να πάει από τον ένα σταθμό στον άλλο. Για την Αθήνα του λένε \"θα πάτε μέχρι το Μενίδι\". Εκεί του λένε \"θα πάτε μέχρι τα Κιούρκα\". Εκεί \"μέχρι την Οινόη\". Αυτό γίνεται 15 φορές στη διαδρομή Αθήνα-Θεσσαλονίκη, γιατί δεν λειτουργεί κανένα σύστημα διοίκησης ή φωτοσήμανσης. Δεν λειτουργεί τίποτα. Υπήρχαν, λειτουργούσαν, δεν λειτουργούν. Θα πρέπει να ρωτήσετε τους αρμόδιους. Εμείς συνεχώς διαμαρτυρόμαστε για αυτά», τόνισε ο κ. Γενιδούνιας.'"
            ],
            "application/vnd.google.colaboratory.intrinsic+json": {
              "type": "string"
            }
          },
          "metadata": {},
          "execution_count": 34
        }
      ]
    },
    {
      "cell_type": "code",
      "source": [
        "avgi_teasers_df = pd.read_csv('/content/drive/MyDrive/avgi_teasers_df.csv')\n",
        "avgi_teasers_df.head()"
      ],
      "metadata": {
        "colab": {
          "base_uri": "https://localhost:8080/",
          "height": 206
        },
        "id": "y7L_07dkcTjm",
        "outputId": "59866b99-b6f1-44db-8f3d-e8ec58f0efb7"
      },
      "execution_count": 31,
      "outputs": [
        {
          "output_type": "execute_result",
          "data": {
            "text/plain": [
              "                                                 url\n",
              "0  https://www.avgi.gr//politiki/441613_metathesi...\n",
              "1  https://www.avgi.gr//koinonia/441575_dekades-k...\n",
              "2  https://www.avgi.gr//koinonia/441566_pos-apofe...\n",
              "3  https://www.avgi.gr//koinonia/441565_i-elas-kl...\n",
              "4  https://www.avgi.gr//koinonia/441564_apergiako..."
            ],
            "text/html": [
              "\n",
              "  <div id=\"df-2bc787ca-a9c5-4275-8073-a1d7739b7bea\">\n",
              "    <div class=\"colab-df-container\">\n",
              "      <div>\n",
              "<style scoped>\n",
              "    .dataframe tbody tr th:only-of-type {\n",
              "        vertical-align: middle;\n",
              "    }\n",
              "\n",
              "    .dataframe tbody tr th {\n",
              "        vertical-align: top;\n",
              "    }\n",
              "\n",
              "    .dataframe thead th {\n",
              "        text-align: right;\n",
              "    }\n",
              "</style>\n",
              "<table border=\"1\" class=\"dataframe\">\n",
              "  <thead>\n",
              "    <tr style=\"text-align: right;\">\n",
              "      <th></th>\n",
              "      <th>url</th>\n",
              "    </tr>\n",
              "  </thead>\n",
              "  <tbody>\n",
              "    <tr>\n",
              "      <th>0</th>\n",
              "      <td>https://www.avgi.gr//politiki/441613_metathesi...</td>\n",
              "    </tr>\n",
              "    <tr>\n",
              "      <th>1</th>\n",
              "      <td>https://www.avgi.gr//koinonia/441575_dekades-k...</td>\n",
              "    </tr>\n",
              "    <tr>\n",
              "      <th>2</th>\n",
              "      <td>https://www.avgi.gr//koinonia/441566_pos-apofe...</td>\n",
              "    </tr>\n",
              "    <tr>\n",
              "      <th>3</th>\n",
              "      <td>https://www.avgi.gr//koinonia/441565_i-elas-kl...</td>\n",
              "    </tr>\n",
              "    <tr>\n",
              "      <th>4</th>\n",
              "      <td>https://www.avgi.gr//koinonia/441564_apergiako...</td>\n",
              "    </tr>\n",
              "  </tbody>\n",
              "</table>\n",
              "</div>\n",
              "      <button class=\"colab-df-convert\" onclick=\"convertToInteractive('df-2bc787ca-a9c5-4275-8073-a1d7739b7bea')\"\n",
              "              title=\"Convert this dataframe to an interactive table.\"\n",
              "              style=\"display:none;\">\n",
              "        \n",
              "  <svg xmlns=\"http://www.w3.org/2000/svg\" height=\"24px\"viewBox=\"0 0 24 24\"\n",
              "       width=\"24px\">\n",
              "    <path d=\"M0 0h24v24H0V0z\" fill=\"none\"/>\n",
              "    <path d=\"M18.56 5.44l.94 2.06.94-2.06 2.06-.94-2.06-.94-.94-2.06-.94 2.06-2.06.94zm-11 1L8.5 8.5l.94-2.06 2.06-.94-2.06-.94L8.5 2.5l-.94 2.06-2.06.94zm10 10l.94 2.06.94-2.06 2.06-.94-2.06-.94-.94-2.06-.94 2.06-2.06.94z\"/><path d=\"M17.41 7.96l-1.37-1.37c-.4-.4-.92-.59-1.43-.59-.52 0-1.04.2-1.43.59L10.3 9.45l-7.72 7.72c-.78.78-.78 2.05 0 2.83L4 21.41c.39.39.9.59 1.41.59.51 0 1.02-.2 1.41-.59l7.78-7.78 2.81-2.81c.8-.78.8-2.07 0-2.86zM5.41 20L4 18.59l7.72-7.72 1.47 1.35L5.41 20z\"/>\n",
              "  </svg>\n",
              "      </button>\n",
              "      \n",
              "  <style>\n",
              "    .colab-df-container {\n",
              "      display:flex;\n",
              "      flex-wrap:wrap;\n",
              "      gap: 12px;\n",
              "    }\n",
              "\n",
              "    .colab-df-convert {\n",
              "      background-color: #E8F0FE;\n",
              "      border: none;\n",
              "      border-radius: 50%;\n",
              "      cursor: pointer;\n",
              "      display: none;\n",
              "      fill: #1967D2;\n",
              "      height: 32px;\n",
              "      padding: 0 0 0 0;\n",
              "      width: 32px;\n",
              "    }\n",
              "\n",
              "    .colab-df-convert:hover {\n",
              "      background-color: #E2EBFA;\n",
              "      box-shadow: 0px 1px 2px rgba(60, 64, 67, 0.3), 0px 1px 3px 1px rgba(60, 64, 67, 0.15);\n",
              "      fill: #174EA6;\n",
              "    }\n",
              "\n",
              "    [theme=dark] .colab-df-convert {\n",
              "      background-color: #3B4455;\n",
              "      fill: #D2E3FC;\n",
              "    }\n",
              "\n",
              "    [theme=dark] .colab-df-convert:hover {\n",
              "      background-color: #434B5C;\n",
              "      box-shadow: 0px 1px 3px 1px rgba(0, 0, 0, 0.15);\n",
              "      filter: drop-shadow(0px 1px 2px rgba(0, 0, 0, 0.3));\n",
              "      fill: #FFFFFF;\n",
              "    }\n",
              "  </style>\n",
              "\n",
              "      <script>\n",
              "        const buttonEl =\n",
              "          document.querySelector('#df-2bc787ca-a9c5-4275-8073-a1d7739b7bea button.colab-df-convert');\n",
              "        buttonEl.style.display =\n",
              "          google.colab.kernel.accessAllowed ? 'block' : 'none';\n",
              "\n",
              "        async function convertToInteractive(key) {\n",
              "          const element = document.querySelector('#df-2bc787ca-a9c5-4275-8073-a1d7739b7bea');\n",
              "          const dataTable =\n",
              "            await google.colab.kernel.invokeFunction('convertToInteractive',\n",
              "                                                     [key], {});\n",
              "          if (!dataTable) return;\n",
              "\n",
              "          const docLinkHtml = 'Like what you see? Visit the ' +\n",
              "            '<a target=\"_blank\" href=https://colab.research.google.com/notebooks/data_table.ipynb>data table notebook</a>'\n",
              "            + ' to learn more about interactive tables.';\n",
              "          element.innerHTML = '';\n",
              "          dataTable['output_type'] = 'display_data';\n",
              "          await google.colab.output.renderOutput(dataTable, element);\n",
              "          const docLink = document.createElement('div');\n",
              "          docLink.innerHTML = docLinkHtml;\n",
              "          element.appendChild(docLink);\n",
              "        }\n",
              "      </script>\n",
              "    </div>\n",
              "  </div>\n",
              "  "
            ]
          },
          "metadata": {},
          "execution_count": 31
        }
      ]
    },
    {
      "cell_type": "code",
      "source": [
        "full_articles_list = []\n",
        "\n",
        "for article_url in avgi_teasers_df['url']:\n",
        "  response = requests.get(article_url)\n",
        "  doc = BeautifulSoup(response.text, 'html.parser')\n",
        "\n",
        "  #*** ΔΩΣΤΕ ΤΗ ΔΙΚΗ ΣΑΣ ΤΙΜΗ στo article που βρήκατε παραπάνω***\n",
        "  article = doc.find('div', {'class': 'article__main-content'})\n",
        "\n",
        "  full_article_dict = {}\n",
        "\n",
        "  # website\n",
        "  full_article_dict['site'] = \"avgi.gr\"\n",
        "\n",
        "  # url\n",
        "  full_article_dict['url'] = article_url\n",
        "\n",
        "  #section\n",
        "  try:\n",
        "    section = doc.find('div', {'class': 'article__category'}).text\n",
        "    full_article_dict['section'] = section\n",
        "  except:\n",
        "    full_article_dict['section'] = ''\n",
        "    pass\n",
        "\n",
        "  #title\n",
        "  try:\n",
        "    title = title = doc.find('h1',{'class':'double-title'}).text\n",
        "    full_article_dict['title'] = title\n",
        "  except:\n",
        "    full_article_dict['title'] = ''\n",
        "    pass\n",
        "\n",
        "  # date\n",
        "  try:\n",
        "    date = doc.find('time',{'class':'default-date'}).text\n",
        "    full_article_dict['date'] = date\n",
        "  except:\n",
        "    full_article_dict['date'] = ''\n",
        "    pass\n",
        "\n",
        "  # author\n",
        "  try:\n",
        "    author = doc.find('a', {'class', \"article__author\"}).span.text\n",
        "    full_article_dict['author'] = author\n",
        "  except:\n",
        "    full_article_dict['author'] = ''\n",
        "    pass\n",
        "\n",
        "  # full_text\n",
        "  try:\n",
        "    p_texts_list = []\n",
        "    paragraphs = article.find_all('p')\n",
        "    for p in paragraphs:\n",
        "      p_texts_list.append(p.text)\n",
        "    full_text = ' '.join(p_texts_list)\n",
        "    full_text = \"\".join(full_text.splitlines())\n",
        "    full_article_dict['full_text'] = full_text\n",
        "  except:\n",
        "    full_article_dict['full_text'] = ''\n",
        "    pass\n",
        "\n",
        "  full_articles_list.append(full_article_dict)\n",
        "  time.sleep(1)"
      ],
      "metadata": {
        "id": "yx_mk82sHeT4"
      },
      "execution_count": 35,
      "outputs": []
    },
    {
      "cell_type": "code",
      "source": [
        "avgi_full_articles_df = pd.DataFrame(full_articles_list)\n",
        "avgi_full_articles_df"
      ],
      "metadata": {
        "colab": {
          "base_uri": "https://localhost:8080/",
          "height": 641
        },
        "id": "Ud7ofI6Fd8sP",
        "outputId": "68e375d0-deb7-4c21-92d4-bd7cdce49235"
      },
      "execution_count": 36,
      "outputs": [
        {
          "output_type": "execute_result",
          "data": {
            "text/plain": [
              "        site                                                url    section  \\\n",
              "0    avgi.gr  https://www.avgi.gr//politiki/441613_metathesi...   ΠΟΛΙΤΙΚΗ   \n",
              "1    avgi.gr  https://www.avgi.gr//koinonia/441575_dekades-k...   ΚΟΙΝΩΝΙΑ   \n",
              "2    avgi.gr  https://www.avgi.gr//koinonia/441566_pos-apofe...   ΚΟΙΝΩΝΙΑ   \n",
              "3    avgi.gr  https://www.avgi.gr//koinonia/441565_i-elas-kl...   ΚΟΙΝΩΝΙΑ   \n",
              "4    avgi.gr  https://www.avgi.gr//koinonia/441564_apergiako...   ΚΟΙΝΩΝΙΑ   \n",
              "..       ...                                                ...        ...   \n",
              "265  avgi.gr  https://www.avgi.gr//koinonia/440913_i-politik...   ΚΟΙΝΩΝΙΑ   \n",
              "266  avgi.gr  https://www.avgi.gr//koinonia/440912_koybenta-...   ΚΟΙΝΩΝΙΑ   \n",
              "267  avgi.gr  https://www.avgi.gr//politiki/440910_adianoito...   ΠΟΛΙΤΙΚΗ   \n",
              "268  avgi.gr  https://www.avgi.gr//koinonia/440909_tragiki-i...   ΚΟΙΝΩΝΙΑ   \n",
              "269  avgi.gr  https://www.avgi.gr//koinonia/440908_den-leito...   ΚΟΙΝΩΝΙΑ   \n",
              "\n",
              "                                                 title            date  \\\n",
              "0     Μαξίμου / Μετάθεση των εκλογών λόγω της λαϊκή...  08.03.23 07:30   \n",
              "1     Τέμπη / Δεκάδες καταλήψεις σε πανεπιστήμια - ...  08.03.23 00:02   \n",
              "2     Σέρρες / Πώς αποφεύχθηκε τελευταία στιγμή σύγ...  07.03.23 22:28   \n",
              "3     Απεργία / Η ΕΛΑΣ κλείνει τους πιο κεντρικούς ...  07.03.23 21:56   \n",
              "4     Τέμπη / Απεργιακό «ποτάμι» σε όλη τη χώρα την...  07.03.23 21:35   \n",
              "..                                                 ...             ...   \n",
              "265   Εργαζόμενοι ΣΤΑΣΥ για Τέμπη / Η πολιτική ηγεσ...  01.03.23 09:11   \n",
              "266   Σύγκρουση τρένων στα Τέμπη / Κουβέντα για τα ...  01.03.23 08:49   \n",
              "267   Αλέξης Τσίπρας / «Αδιανόητο αυτό που συνέβη» ...  01.03.23 08:32   \n",
              "268   Σύγκρουση τρένων στα Τέμπη / «Τραγική η εικόν...  01.03.23 08:18   \n",
              "269   Πρόεδρος μηχανοδηγών ΟΣΕ / Δεν λειτουργεί καν...  01.03.23 08:14   \n",
              "\n",
              "                 author                                          full_text  \n",
              "0    Κώστας Σαββόπουλος  Την 21η Μαΐου δείχνει πλέον η κυβερνητική πυξί...  \n",
              "1         Αυγή Newsroom  Το κίνημα που διεκδικεί το δικαίωμα στην ζωή κ...  \n",
              "2         Αυγή Newsroom  Λίγες μέρες μετά την πολύνεκρη τραγωδία στα Τέ...  \n",
              "3         Αυγή Newsroom  Κλείνει κεντρικούς σταθμούς του Μετρό η Αστυνο...  \n",
              "4         Αυγή Newsroom  Μεγαλώνει το κύμα οργής κατά της κυβέρνησης με...  \n",
              "..                  ...                                                ...  \n",
              "265       Αυγή Newsroom  «Σήμερα θρηνούμε τους συμπολίτες μας που χάθηκ...  \n",
              "266       Αυγή Newsroom  Ούτε μία λέξη για το τι προκάλεσε την ανείπωτη...  \n",
              "267       Αυγή Newsroom  Συγκλονισμένος από την ανείπωτη τραγωδία στα Τ...  \n",
              "268       Αυγή Newsroom  Ο δήμαρχος Λάρισας Απόστολος Καλογιάννης μίλησ...  \n",
              "269       Αυγή Newsroom  Πολύ σοβαρές καταγγελίες για την κατάσταση διά...  \n",
              "\n",
              "[270 rows x 7 columns]"
            ],
            "text/html": [
              "\n",
              "  <div id=\"df-67d9837e-f3b1-442b-a1a6-af9927711302\">\n",
              "    <div class=\"colab-df-container\">\n",
              "      <div>\n",
              "<style scoped>\n",
              "    .dataframe tbody tr th:only-of-type {\n",
              "        vertical-align: middle;\n",
              "    }\n",
              "\n",
              "    .dataframe tbody tr th {\n",
              "        vertical-align: top;\n",
              "    }\n",
              "\n",
              "    .dataframe thead th {\n",
              "        text-align: right;\n",
              "    }\n",
              "</style>\n",
              "<table border=\"1\" class=\"dataframe\">\n",
              "  <thead>\n",
              "    <tr style=\"text-align: right;\">\n",
              "      <th></th>\n",
              "      <th>site</th>\n",
              "      <th>url</th>\n",
              "      <th>section</th>\n",
              "      <th>title</th>\n",
              "      <th>date</th>\n",
              "      <th>author</th>\n",
              "      <th>full_text</th>\n",
              "    </tr>\n",
              "  </thead>\n",
              "  <tbody>\n",
              "    <tr>\n",
              "      <th>0</th>\n",
              "      <td>avgi.gr</td>\n",
              "      <td>https://www.avgi.gr//politiki/441613_metathesi...</td>\n",
              "      <td>ΠΟΛΙΤΙΚΗ</td>\n",
              "      <td>Μαξίμου / Μετάθεση των εκλογών λόγω της λαϊκή...</td>\n",
              "      <td>08.03.23 07:30</td>\n",
              "      <td>Κώστας Σαββόπουλος</td>\n",
              "      <td>Την 21η Μαΐου δείχνει πλέον η κυβερνητική πυξί...</td>\n",
              "    </tr>\n",
              "    <tr>\n",
              "      <th>1</th>\n",
              "      <td>avgi.gr</td>\n",
              "      <td>https://www.avgi.gr//koinonia/441575_dekades-k...</td>\n",
              "      <td>ΚΟΙΝΩΝΙΑ</td>\n",
              "      <td>Τέμπη / Δεκάδες καταλήψεις σε πανεπιστήμια - ...</td>\n",
              "      <td>08.03.23 00:02</td>\n",
              "      <td>Αυγή Newsroom</td>\n",
              "      <td>Το κίνημα που διεκδικεί το δικαίωμα στην ζωή κ...</td>\n",
              "    </tr>\n",
              "    <tr>\n",
              "      <th>2</th>\n",
              "      <td>avgi.gr</td>\n",
              "      <td>https://www.avgi.gr//koinonia/441566_pos-apofe...</td>\n",
              "      <td>ΚΟΙΝΩΝΙΑ</td>\n",
              "      <td>Σέρρες / Πώς αποφεύχθηκε τελευταία στιγμή σύγ...</td>\n",
              "      <td>07.03.23 22:28</td>\n",
              "      <td>Αυγή Newsroom</td>\n",
              "      <td>Λίγες μέρες μετά την πολύνεκρη τραγωδία στα Τέ...</td>\n",
              "    </tr>\n",
              "    <tr>\n",
              "      <th>3</th>\n",
              "      <td>avgi.gr</td>\n",
              "      <td>https://www.avgi.gr//koinonia/441565_i-elas-kl...</td>\n",
              "      <td>ΚΟΙΝΩΝΙΑ</td>\n",
              "      <td>Απεργία / Η ΕΛΑΣ κλείνει τους πιο κεντρικούς ...</td>\n",
              "      <td>07.03.23 21:56</td>\n",
              "      <td>Αυγή Newsroom</td>\n",
              "      <td>Κλείνει κεντρικούς σταθμούς του Μετρό η Αστυνο...</td>\n",
              "    </tr>\n",
              "    <tr>\n",
              "      <th>4</th>\n",
              "      <td>avgi.gr</td>\n",
              "      <td>https://www.avgi.gr//koinonia/441564_apergiako...</td>\n",
              "      <td>ΚΟΙΝΩΝΙΑ</td>\n",
              "      <td>Τέμπη / Απεργιακό «ποτάμι» σε όλη τη χώρα την...</td>\n",
              "      <td>07.03.23 21:35</td>\n",
              "      <td>Αυγή Newsroom</td>\n",
              "      <td>Μεγαλώνει το κύμα οργής κατά της κυβέρνησης με...</td>\n",
              "    </tr>\n",
              "    <tr>\n",
              "      <th>...</th>\n",
              "      <td>...</td>\n",
              "      <td>...</td>\n",
              "      <td>...</td>\n",
              "      <td>...</td>\n",
              "      <td>...</td>\n",
              "      <td>...</td>\n",
              "      <td>...</td>\n",
              "    </tr>\n",
              "    <tr>\n",
              "      <th>265</th>\n",
              "      <td>avgi.gr</td>\n",
              "      <td>https://www.avgi.gr//koinonia/440913_i-politik...</td>\n",
              "      <td>ΚΟΙΝΩΝΙΑ</td>\n",
              "      <td>Εργαζόμενοι ΣΤΑΣΥ για Τέμπη / Η πολιτική ηγεσ...</td>\n",
              "      <td>01.03.23 09:11</td>\n",
              "      <td>Αυγή Newsroom</td>\n",
              "      <td>«Σήμερα θρηνούμε τους συμπολίτες μας που χάθηκ...</td>\n",
              "    </tr>\n",
              "    <tr>\n",
              "      <th>266</th>\n",
              "      <td>avgi.gr</td>\n",
              "      <td>https://www.avgi.gr//koinonia/440912_koybenta-...</td>\n",
              "      <td>ΚΟΙΝΩΝΙΑ</td>\n",
              "      <td>Σύγκρουση τρένων στα Τέμπη / Κουβέντα για τα ...</td>\n",
              "      <td>01.03.23 08:49</td>\n",
              "      <td>Αυγή Newsroom</td>\n",
              "      <td>Ούτε μία λέξη για το τι προκάλεσε την ανείπωτη...</td>\n",
              "    </tr>\n",
              "    <tr>\n",
              "      <th>267</th>\n",
              "      <td>avgi.gr</td>\n",
              "      <td>https://www.avgi.gr//politiki/440910_adianoito...</td>\n",
              "      <td>ΠΟΛΙΤΙΚΗ</td>\n",
              "      <td>Αλέξης Τσίπρας / «Αδιανόητο αυτό που συνέβη» ...</td>\n",
              "      <td>01.03.23 08:32</td>\n",
              "      <td>Αυγή Newsroom</td>\n",
              "      <td>Συγκλονισμένος από την ανείπωτη τραγωδία στα Τ...</td>\n",
              "    </tr>\n",
              "    <tr>\n",
              "      <th>268</th>\n",
              "      <td>avgi.gr</td>\n",
              "      <td>https://www.avgi.gr//koinonia/440909_tragiki-i...</td>\n",
              "      <td>ΚΟΙΝΩΝΙΑ</td>\n",
              "      <td>Σύγκρουση τρένων στα Τέμπη / «Τραγική η εικόν...</td>\n",
              "      <td>01.03.23 08:18</td>\n",
              "      <td>Αυγή Newsroom</td>\n",
              "      <td>Ο δήμαρχος Λάρισας Απόστολος Καλογιάννης μίλησ...</td>\n",
              "    </tr>\n",
              "    <tr>\n",
              "      <th>269</th>\n",
              "      <td>avgi.gr</td>\n",
              "      <td>https://www.avgi.gr//koinonia/440908_den-leito...</td>\n",
              "      <td>ΚΟΙΝΩΝΙΑ</td>\n",
              "      <td>Πρόεδρος μηχανοδηγών ΟΣΕ / Δεν λειτουργεί καν...</td>\n",
              "      <td>01.03.23 08:14</td>\n",
              "      <td>Αυγή Newsroom</td>\n",
              "      <td>Πολύ σοβαρές καταγγελίες για την κατάσταση διά...</td>\n",
              "    </tr>\n",
              "  </tbody>\n",
              "</table>\n",
              "<p>270 rows × 7 columns</p>\n",
              "</div>\n",
              "      <button class=\"colab-df-convert\" onclick=\"convertToInteractive('df-67d9837e-f3b1-442b-a1a6-af9927711302')\"\n",
              "              title=\"Convert this dataframe to an interactive table.\"\n",
              "              style=\"display:none;\">\n",
              "        \n",
              "  <svg xmlns=\"http://www.w3.org/2000/svg\" height=\"24px\"viewBox=\"0 0 24 24\"\n",
              "       width=\"24px\">\n",
              "    <path d=\"M0 0h24v24H0V0z\" fill=\"none\"/>\n",
              "    <path d=\"M18.56 5.44l.94 2.06.94-2.06 2.06-.94-2.06-.94-.94-2.06-.94 2.06-2.06.94zm-11 1L8.5 8.5l.94-2.06 2.06-.94-2.06-.94L8.5 2.5l-.94 2.06-2.06.94zm10 10l.94 2.06.94-2.06 2.06-.94-2.06-.94-.94-2.06-.94 2.06-2.06.94z\"/><path d=\"M17.41 7.96l-1.37-1.37c-.4-.4-.92-.59-1.43-.59-.52 0-1.04.2-1.43.59L10.3 9.45l-7.72 7.72c-.78.78-.78 2.05 0 2.83L4 21.41c.39.39.9.59 1.41.59.51 0 1.02-.2 1.41-.59l7.78-7.78 2.81-2.81c.8-.78.8-2.07 0-2.86zM5.41 20L4 18.59l7.72-7.72 1.47 1.35L5.41 20z\"/>\n",
              "  </svg>\n",
              "      </button>\n",
              "      \n",
              "  <style>\n",
              "    .colab-df-container {\n",
              "      display:flex;\n",
              "      flex-wrap:wrap;\n",
              "      gap: 12px;\n",
              "    }\n",
              "\n",
              "    .colab-df-convert {\n",
              "      background-color: #E8F0FE;\n",
              "      border: none;\n",
              "      border-radius: 50%;\n",
              "      cursor: pointer;\n",
              "      display: none;\n",
              "      fill: #1967D2;\n",
              "      height: 32px;\n",
              "      padding: 0 0 0 0;\n",
              "      width: 32px;\n",
              "    }\n",
              "\n",
              "    .colab-df-convert:hover {\n",
              "      background-color: #E2EBFA;\n",
              "      box-shadow: 0px 1px 2px rgba(60, 64, 67, 0.3), 0px 1px 3px 1px rgba(60, 64, 67, 0.15);\n",
              "      fill: #174EA6;\n",
              "    }\n",
              "\n",
              "    [theme=dark] .colab-df-convert {\n",
              "      background-color: #3B4455;\n",
              "      fill: #D2E3FC;\n",
              "    }\n",
              "\n",
              "    [theme=dark] .colab-df-convert:hover {\n",
              "      background-color: #434B5C;\n",
              "      box-shadow: 0px 1px 3px 1px rgba(0, 0, 0, 0.15);\n",
              "      filter: drop-shadow(0px 1px 2px rgba(0, 0, 0, 0.3));\n",
              "      fill: #FFFFFF;\n",
              "    }\n",
              "  </style>\n",
              "\n",
              "      <script>\n",
              "        const buttonEl =\n",
              "          document.querySelector('#df-67d9837e-f3b1-442b-a1a6-af9927711302 button.colab-df-convert');\n",
              "        buttonEl.style.display =\n",
              "          google.colab.kernel.accessAllowed ? 'block' : 'none';\n",
              "\n",
              "        async function convertToInteractive(key) {\n",
              "          const element = document.querySelector('#df-67d9837e-f3b1-442b-a1a6-af9927711302');\n",
              "          const dataTable =\n",
              "            await google.colab.kernel.invokeFunction('convertToInteractive',\n",
              "                                                     [key], {});\n",
              "          if (!dataTable) return;\n",
              "\n",
              "          const docLinkHtml = 'Like what you see? Visit the ' +\n",
              "            '<a target=\"_blank\" href=https://colab.research.google.com/notebooks/data_table.ipynb>data table notebook</a>'\n",
              "            + ' to learn more about interactive tables.';\n",
              "          element.innerHTML = '';\n",
              "          dataTable['output_type'] = 'display_data';\n",
              "          await google.colab.output.renderOutput(dataTable, element);\n",
              "          const docLink = document.createElement('div');\n",
              "          docLink.innerHTML = docLinkHtml;\n",
              "          element.appendChild(docLink);\n",
              "        }\n",
              "      </script>\n",
              "    </div>\n",
              "  </div>\n",
              "  "
            ]
          },
          "metadata": {},
          "execution_count": 36
        }
      ]
    },
    {
      "cell_type": "code",
      "source": [
        "avgi_full_articles_df.to_csv('/content/drive/MyDrive/Colab Notebooks/avgi_full_articles_tempi_2023_1-7_3_2023.csv', index=False)"
      ],
      "metadata": {
        "id": "MQFyb8t5edAm"
      },
      "execution_count": 37,
      "outputs": []
    },
    {
      "cell_type": "code",
      "source": [
        "avgi_full_articles_df.dtypes"
      ],
      "metadata": {
        "colab": {
          "base_uri": "https://localhost:8080/"
        },
        "id": "7T6oO-8ghTw1",
        "outputId": "26ce263a-1c32-43b3-8552-46a03707e6c1"
      },
      "execution_count": 44,
      "outputs": [
        {
          "output_type": "execute_result",
          "data": {
            "text/plain": [
              "site                 object\n",
              "url                  object\n",
              "section              object\n",
              "title                object\n",
              "date                 object\n",
              "author               object\n",
              "full_text            object\n",
              "datetime     datetime64[ns]\n",
              "dtype: object"
            ]
          },
          "metadata": {},
          "execution_count": 44
        }
      ]
    },
    {
      "cell_type": "code",
      "source": [
        "avgi_full_articles_df.loc[0, 'full_text']"
      ],
      "metadata": {
        "colab": {
          "base_uri": "https://localhost:8080/",
          "height": 434
        },
        "id": "e-DxvwSafw36",
        "outputId": "27db279f-2758-4c94-fd16-6e2432f13f71"
      },
      "execution_count": 39,
      "outputs": [
        {
          "output_type": "execute_result",
          "data": {
            "text/plain": [
              "'Την 21η Μαΐου δείχνει πλέον η κυβερνητική πυξίδα για την προσφυγή στη λαϊκή ετυμηγορία. Οι συνεργάτες του Κυριάκου Μητσοτάκη, μετά το βαρύ κοινωνικό κλίμα που έχει προκληθεί για την κυβέρνηση λόγω της τραγωδίας στα Τέμπη, θεωρούν επιβεβλημένη την αναθεώρηση του αρχικού εκλογικού χρονοδιαγράμματος. Υπό αυτό το πρίσμα, οι δεύτερες κάλπες, αν χρειαστούν, θα στηθούν στις 2 Ιουλίου, χωρίς να επηρεαστεί η διαδικασία των Πανελλαδικών εξετάσεων. Στην κυβέρνηση ουσιαστικά επιδιώκουν μόνο συμμαχία με τον χρόνο, ελπίζοντας στην υποχώρηση του συλλογικού τραύματος και της γενικευμένης οργής μέχρι την ώρα της κρίσης. Οι πρώτες σφυγμομετρήσεις που φτάνουν στο Μέγαρο Μαξίμου καθρεφτίζουν τη συλλογική αποδοκιμασία για τους κυβερνητικούς χειρισμούς και καταρρίπτουν τις γαλάζιες γραμμές άμυνας που θεμελιώθηκαν στο «ανθρώπινο λάθος» και στην «κούφια» πρωθυπουργική συγγνώμη. Καταλύτη για την οριστικοποίηση του κυβερνητικού σχεδιασμού θα αποτελέσουν και οι αντιδράσεις στους δρόμους. Πηγές που βρίσκονται κοντά στο πρωθυπουργικό περιβάλλον σημειώνουν ότι σε περίπτωση που οι κινητοποιήσεις των νέων προσλάβουν μόνιμα χαρακτηριστικά, θα επανεξεταστεί η εκδοχή της 9ης Απριλίου. Αν ο πρωθυπουργός καταλήξει σ’ αυτή την ημερομηνία, με βάση τις προβλέψεις του συντάγματος έχει περιθώριο για την προκήρυξη των εκλογών και τη διάλυση της Βουλής μέχρι τις 19 Μαρτίου. Οι ίδιοι κύκλοι με έκδηλη ανησυχία σημειώνουν ότι «η “επανέκδοση” ενός κινήματος Αγανακτισμένων θα δηλητηριάσει περεταίρω την πολιτική ζωή» και προσθέτουν ότι σ’ αυτή την περίπτωση θα αναζητηθεί η γρηγορότερη διέξοδος στην κάλπη. Ήδη ο φακός του Μαξίμου είναι εστιασμένος στο μέγεθος της συμμετοχής στις σημερινές απεργιακές κινητοποιήσεις, θεωρώντας πως αποτελούν «δείκτη» για την εξέλιξη των κοινωνικών αντιδράσεων. Η γαλάζια αναταραχή αποτυπώνεται μάλιστα στην εντολή του Τάκη Θεοδωρικάκου να ερευνηθούν οι ενέργειες της αστυνομίας στο συλλαλητήριο της Κυριακής. Υπενθυμίζεται ότι λίγη ώρα μετά το διαδικτυακό μήνυμα του Κ. Μητσοτάκη, στο οποίο απέδιδε τιμή «στα νέα παιδιά που διαδήλωσαν βουβά και ειρηνικά», οι δυνάμεις των ΜΑΤ «έλουζαν» με χημικά τους διαδηλωτές. Επιπλέον, η Ν.Δ. αναζητεί απεγνωσμένα σωσίβιο στην τακτική της διάχυσης των ευθυνών στις προηγούμενες κυβερνήσεις για την απαξίωση των σιδηροδρομικών υποδομών. Σύμφωνα με πληροφορίες, στη συνέντευξη που θα παραχωρήσει σήμερα ο νέος υπουργός Μεταφορών Γ. Γεραπετρίτης για τα αίτια της τραγωδίας, θα εξαπολύσει επίθεση στην προηγούμενη κυβέρνηση και θα «στοχοποιήσει» συγκεκριμένους υπουργούς της. Χθες ο κυβερνητικός εκπρόσωπος προσπάθησε να επιχειρηματολογήσει για τη συμμετοχή του Κώστα Αχ. Καραμανλή στα ψηφοδέλτια. «Έχει καταδικαστεί ο κ. Καραμανλής για κάτι;» ήταν το ερώτημά του μετά τον σάλο που προκλήθηκε. Προχώρησε δε σε ασκήσεις αντιπερισπασμού με τη δικαστική απόφαση που αφορά τον Νίκο Παππά, μιλώντας για ορισμένους που «κουνούν το δάχτυλο, βαρύνονται με αμετάκλητες και ομόφωνες καταδίκες από ανώτατα Ειδικά Δικαστήρια και δεν τολμούν να τους βγάλουν από τα ψηφοδέλτια». Οι κυβερνητικοί συμψηφισμοί δεν αμβλύνουν τις αντιδράσεις ακόμα και στο γαλάζιο στρατόπεδο. «Παράνομη» χαρακτήρισε χθες τη μετάταξη του σταθμάρχη Λάρισας ο Κώστας Τζαβάρας, αδειάζοντας τον Μάκη Βορίδη. Ο βουλευτής της Ν.Δ τόνισε ότι «η μετάταξη προϋποθέτει απόλυση. Κοπή δηλαδή. Ρήξη του νομικού δεσμού με την υπηρεσία από όπου προέρχεται και ένταξή του στην υπηρεσία όπου προορίζεται». Εξήγησε δε ότι μετά την απόλυση ισχύει το ηλικιακό όριο που δεν επιτρέπει στον σταθμάρχη να προσληφθεί στον ΟΣΕ.'"
            ],
            "application/vnd.google.colaboratory.intrinsic+json": {
              "type": "string"
            }
          },
          "metadata": {},
          "execution_count": 39
        }
      ]
    },
    {
      "cell_type": "code",
      "source": [
        "avgi_full_articles_df.loc[0, 'date']"
      ],
      "metadata": {
        "colab": {
          "base_uri": "https://localhost:8080/",
          "height": 35
        },
        "id": "4ltf3DUMf6fW",
        "outputId": "07f4bb20-5aa6-44b7-f677-96488d370575"
      },
      "execution_count": 40,
      "outputs": [
        {
          "output_type": "execute_result",
          "data": {
            "text/plain": [
              "'08.03.23 07:30'"
            ],
            "application/vnd.google.colaboratory.intrinsic+json": {
              "type": "string"
            }
          },
          "metadata": {},
          "execution_count": 40
        }
      ]
    },
    {
      "cell_type": "code",
      "source": [
        "avgi_full_articles_df['datetime'] = pd.to_datetime(avgi_full_articles_df['date'], format='%d.%m.%y %H:%M')\n",
        "avgi_full_articles_df.head()"
      ],
      "metadata": {
        "colab": {
          "base_uri": "https://localhost:8080/",
          "height": 423
        },
        "id": "3wZhPUu_f8YN",
        "outputId": "4cbb2377-ed17-4f4d-9307-5ad510a57cad"
      },
      "execution_count": 43,
      "outputs": [
        {
          "output_type": "execute_result",
          "data": {
            "text/plain": [
              "      site                                                url    section  \\\n",
              "0  avgi.gr  https://www.avgi.gr//politiki/441613_metathesi...   ΠΟΛΙΤΙΚΗ   \n",
              "1  avgi.gr  https://www.avgi.gr//koinonia/441575_dekades-k...   ΚΟΙΝΩΝΙΑ   \n",
              "2  avgi.gr  https://www.avgi.gr//koinonia/441566_pos-apofe...   ΚΟΙΝΩΝΙΑ   \n",
              "3  avgi.gr  https://www.avgi.gr//koinonia/441565_i-elas-kl...   ΚΟΙΝΩΝΙΑ   \n",
              "4  avgi.gr  https://www.avgi.gr//koinonia/441564_apergiako...   ΚΟΙΝΩΝΙΑ   \n",
              "\n",
              "                                               title            date  \\\n",
              "0   Μαξίμου / Μετάθεση των εκλογών λόγω της λαϊκή...  08.03.23 07:30   \n",
              "1   Τέμπη / Δεκάδες καταλήψεις σε πανεπιστήμια - ...  08.03.23 00:02   \n",
              "2   Σέρρες / Πώς αποφεύχθηκε τελευταία στιγμή σύγ...  07.03.23 22:28   \n",
              "3   Απεργία / Η ΕΛΑΣ κλείνει τους πιο κεντρικούς ...  07.03.23 21:56   \n",
              "4   Τέμπη / Απεργιακό «ποτάμι» σε όλη τη χώρα την...  07.03.23 21:35   \n",
              "\n",
              "               author                                          full_text  \\\n",
              "0  Κώστας Σαββόπουλος  Την 21η Μαΐου δείχνει πλέον η κυβερνητική πυξί...   \n",
              "1       Αυγή Newsroom  Το κίνημα που διεκδικεί το δικαίωμα στην ζωή κ...   \n",
              "2       Αυγή Newsroom  Λίγες μέρες μετά την πολύνεκρη τραγωδία στα Τέ...   \n",
              "3       Αυγή Newsroom  Κλείνει κεντρικούς σταθμούς του Μετρό η Αστυνο...   \n",
              "4       Αυγή Newsroom  Μεγαλώνει το κύμα οργής κατά της κυβέρνησης με...   \n",
              "\n",
              "             datetime  \n",
              "0 2023-03-08 07:30:00  \n",
              "1 2023-03-08 00:02:00  \n",
              "2 2023-03-07 22:28:00  \n",
              "3 2023-03-07 21:56:00  \n",
              "4 2023-03-07 21:35:00  "
            ],
            "text/html": [
              "\n",
              "  <div id=\"df-6021ea28-062f-4c50-81c1-6abd2bb1e8d5\">\n",
              "    <div class=\"colab-df-container\">\n",
              "      <div>\n",
              "<style scoped>\n",
              "    .dataframe tbody tr th:only-of-type {\n",
              "        vertical-align: middle;\n",
              "    }\n",
              "\n",
              "    .dataframe tbody tr th {\n",
              "        vertical-align: top;\n",
              "    }\n",
              "\n",
              "    .dataframe thead th {\n",
              "        text-align: right;\n",
              "    }\n",
              "</style>\n",
              "<table border=\"1\" class=\"dataframe\">\n",
              "  <thead>\n",
              "    <tr style=\"text-align: right;\">\n",
              "      <th></th>\n",
              "      <th>site</th>\n",
              "      <th>url</th>\n",
              "      <th>section</th>\n",
              "      <th>title</th>\n",
              "      <th>date</th>\n",
              "      <th>author</th>\n",
              "      <th>full_text</th>\n",
              "      <th>datetime</th>\n",
              "    </tr>\n",
              "  </thead>\n",
              "  <tbody>\n",
              "    <tr>\n",
              "      <th>0</th>\n",
              "      <td>avgi.gr</td>\n",
              "      <td>https://www.avgi.gr//politiki/441613_metathesi...</td>\n",
              "      <td>ΠΟΛΙΤΙΚΗ</td>\n",
              "      <td>Μαξίμου / Μετάθεση των εκλογών λόγω της λαϊκή...</td>\n",
              "      <td>08.03.23 07:30</td>\n",
              "      <td>Κώστας Σαββόπουλος</td>\n",
              "      <td>Την 21η Μαΐου δείχνει πλέον η κυβερνητική πυξί...</td>\n",
              "      <td>2023-03-08 07:30:00</td>\n",
              "    </tr>\n",
              "    <tr>\n",
              "      <th>1</th>\n",
              "      <td>avgi.gr</td>\n",
              "      <td>https://www.avgi.gr//koinonia/441575_dekades-k...</td>\n",
              "      <td>ΚΟΙΝΩΝΙΑ</td>\n",
              "      <td>Τέμπη / Δεκάδες καταλήψεις σε πανεπιστήμια - ...</td>\n",
              "      <td>08.03.23 00:02</td>\n",
              "      <td>Αυγή Newsroom</td>\n",
              "      <td>Το κίνημα που διεκδικεί το δικαίωμα στην ζωή κ...</td>\n",
              "      <td>2023-03-08 00:02:00</td>\n",
              "    </tr>\n",
              "    <tr>\n",
              "      <th>2</th>\n",
              "      <td>avgi.gr</td>\n",
              "      <td>https://www.avgi.gr//koinonia/441566_pos-apofe...</td>\n",
              "      <td>ΚΟΙΝΩΝΙΑ</td>\n",
              "      <td>Σέρρες / Πώς αποφεύχθηκε τελευταία στιγμή σύγ...</td>\n",
              "      <td>07.03.23 22:28</td>\n",
              "      <td>Αυγή Newsroom</td>\n",
              "      <td>Λίγες μέρες μετά την πολύνεκρη τραγωδία στα Τέ...</td>\n",
              "      <td>2023-03-07 22:28:00</td>\n",
              "    </tr>\n",
              "    <tr>\n",
              "      <th>3</th>\n",
              "      <td>avgi.gr</td>\n",
              "      <td>https://www.avgi.gr//koinonia/441565_i-elas-kl...</td>\n",
              "      <td>ΚΟΙΝΩΝΙΑ</td>\n",
              "      <td>Απεργία / Η ΕΛΑΣ κλείνει τους πιο κεντρικούς ...</td>\n",
              "      <td>07.03.23 21:56</td>\n",
              "      <td>Αυγή Newsroom</td>\n",
              "      <td>Κλείνει κεντρικούς σταθμούς του Μετρό η Αστυνο...</td>\n",
              "      <td>2023-03-07 21:56:00</td>\n",
              "    </tr>\n",
              "    <tr>\n",
              "      <th>4</th>\n",
              "      <td>avgi.gr</td>\n",
              "      <td>https://www.avgi.gr//koinonia/441564_apergiako...</td>\n",
              "      <td>ΚΟΙΝΩΝΙΑ</td>\n",
              "      <td>Τέμπη / Απεργιακό «ποτάμι» σε όλη τη χώρα την...</td>\n",
              "      <td>07.03.23 21:35</td>\n",
              "      <td>Αυγή Newsroom</td>\n",
              "      <td>Μεγαλώνει το κύμα οργής κατά της κυβέρνησης με...</td>\n",
              "      <td>2023-03-07 21:35:00</td>\n",
              "    </tr>\n",
              "  </tbody>\n",
              "</table>\n",
              "</div>\n",
              "      <button class=\"colab-df-convert\" onclick=\"convertToInteractive('df-6021ea28-062f-4c50-81c1-6abd2bb1e8d5')\"\n",
              "              title=\"Convert this dataframe to an interactive table.\"\n",
              "              style=\"display:none;\">\n",
              "        \n",
              "  <svg xmlns=\"http://www.w3.org/2000/svg\" height=\"24px\"viewBox=\"0 0 24 24\"\n",
              "       width=\"24px\">\n",
              "    <path d=\"M0 0h24v24H0V0z\" fill=\"none\"/>\n",
              "    <path d=\"M18.56 5.44l.94 2.06.94-2.06 2.06-.94-2.06-.94-.94-2.06-.94 2.06-2.06.94zm-11 1L8.5 8.5l.94-2.06 2.06-.94-2.06-.94L8.5 2.5l-.94 2.06-2.06.94zm10 10l.94 2.06.94-2.06 2.06-.94-2.06-.94-.94-2.06-.94 2.06-2.06.94z\"/><path d=\"M17.41 7.96l-1.37-1.37c-.4-.4-.92-.59-1.43-.59-.52 0-1.04.2-1.43.59L10.3 9.45l-7.72 7.72c-.78.78-.78 2.05 0 2.83L4 21.41c.39.39.9.59 1.41.59.51 0 1.02-.2 1.41-.59l7.78-7.78 2.81-2.81c.8-.78.8-2.07 0-2.86zM5.41 20L4 18.59l7.72-7.72 1.47 1.35L5.41 20z\"/>\n",
              "  </svg>\n",
              "      </button>\n",
              "      \n",
              "  <style>\n",
              "    .colab-df-container {\n",
              "      display:flex;\n",
              "      flex-wrap:wrap;\n",
              "      gap: 12px;\n",
              "    }\n",
              "\n",
              "    .colab-df-convert {\n",
              "      background-color: #E8F0FE;\n",
              "      border: none;\n",
              "      border-radius: 50%;\n",
              "      cursor: pointer;\n",
              "      display: none;\n",
              "      fill: #1967D2;\n",
              "      height: 32px;\n",
              "      padding: 0 0 0 0;\n",
              "      width: 32px;\n",
              "    }\n",
              "\n",
              "    .colab-df-convert:hover {\n",
              "      background-color: #E2EBFA;\n",
              "      box-shadow: 0px 1px 2px rgba(60, 64, 67, 0.3), 0px 1px 3px 1px rgba(60, 64, 67, 0.15);\n",
              "      fill: #174EA6;\n",
              "    }\n",
              "\n",
              "    [theme=dark] .colab-df-convert {\n",
              "      background-color: #3B4455;\n",
              "      fill: #D2E3FC;\n",
              "    }\n",
              "\n",
              "    [theme=dark] .colab-df-convert:hover {\n",
              "      background-color: #434B5C;\n",
              "      box-shadow: 0px 1px 3px 1px rgba(0, 0, 0, 0.15);\n",
              "      filter: drop-shadow(0px 1px 2px rgba(0, 0, 0, 0.3));\n",
              "      fill: #FFFFFF;\n",
              "    }\n",
              "  </style>\n",
              "\n",
              "      <script>\n",
              "        const buttonEl =\n",
              "          document.querySelector('#df-6021ea28-062f-4c50-81c1-6abd2bb1e8d5 button.colab-df-convert');\n",
              "        buttonEl.style.display =\n",
              "          google.colab.kernel.accessAllowed ? 'block' : 'none';\n",
              "\n",
              "        async function convertToInteractive(key) {\n",
              "          const element = document.querySelector('#df-6021ea28-062f-4c50-81c1-6abd2bb1e8d5');\n",
              "          const dataTable =\n",
              "            await google.colab.kernel.invokeFunction('convertToInteractive',\n",
              "                                                     [key], {});\n",
              "          if (!dataTable) return;\n",
              "\n",
              "          const docLinkHtml = 'Like what you see? Visit the ' +\n",
              "            '<a target=\"_blank\" href=https://colab.research.google.com/notebooks/data_table.ipynb>data table notebook</a>'\n",
              "            + ' to learn more about interactive tables.';\n",
              "          element.innerHTML = '';\n",
              "          dataTable['output_type'] = 'display_data';\n",
              "          await google.colab.output.renderOutput(dataTable, element);\n",
              "          const docLink = document.createElement('div');\n",
              "          docLink.innerHTML = docLinkHtml;\n",
              "          element.appendChild(docLink);\n",
              "        }\n",
              "      </script>\n",
              "    </div>\n",
              "  </div>\n",
              "  "
            ]
          },
          "metadata": {},
          "execution_count": 43
        }
      ]
    }
  ]
}