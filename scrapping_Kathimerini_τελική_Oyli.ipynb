{
  "nbformat": 4,
  "nbformat_minor": 0,
  "metadata": {
    "colab": {
      "provenance": []
    },
    "kernelspec": {
      "name": "python3",
      "display_name": "Python 3"
    },
    "language_info": {
      "name": "python"
    }
  },
  "cells": [
    {
      "cell_type": "code",
      "source": [
        "\n",
        "import requests\n",
        "from bs4 import BeautifulSoup\n",
        "import pandas as pd\n",
        "import time\n",
        "\n",
        "\n",
        "import numpy as np\n",
        "\n",
        "\n",
        "import matplotlib.pyplot as plt\n",
        "\n",
        "\n",
        "import spacy"
      ],
      "metadata": {
        "id": "f9DaNo9AZ2EC"
      },
      "execution_count": 26,
      "outputs": []
    },
    {
      "cell_type": "code",
      "source": [
        "!python -m spacy download el_core_news_sm"
      ],
      "metadata": {
        "id": "jsYFDjF0dX23"
      },
      "execution_count": null,
      "outputs": []
    },
    {
      "cell_type": "code",
      "execution_count": 44,
      "metadata": {
        "id": "Jh9H_-Bc2-0r",
        "colab": {
          "base_uri": "https://localhost:8080/"
        },
        "outputId": "24432acb-7cf8-4d91-ff00-761b3db368f9"
      },
      "outputs": [
        {
          "output_type": "stream",
          "name": "stdout",
          "text": [
            "https://www.kathimerini.gr/search/%CF%84%CE%B5%CE%BC%CF%80%CE%B7/page/12\n"
          ]
        }
      ],
      "source": [
        "start_page = 12\n",
        "end_page = 26\n",
        "\n",
        "start_url = 'https://www.kathimerini.gr/search/%CF%84%CE%B5%CE%BC%CF%80%CE%B7/page/'\n",
        "\n",
        "test_url = start_url + str(start_page)\n",
        "print(test_url)"
      ]
    },
    {
      "cell_type": "code",
      "execution_count": 45,
      "metadata": {
        "id": "wmLj79jMOHMI"
      },
      "outputs": [],
      "source": [
        "\n",
        "response = requests.get(test_url)\n",
        "doc = BeautifulSoup(response.text, 'html.parser')"
      ]
    },
    {
      "cell_type": "code",
      "source": [
        "teaser_articles_list = doc.find('div', {'class': 'columns is-flex-wrap-wrap'}).find_all('div',{'class': 'card columns is-flex-direction-row cat-list-rtl m-0'})"
      ],
      "metadata": {
        "id": "yr5Gs0G9SHQU"
      },
      "execution_count": 46,
      "outputs": []
    },
    {
      "cell_type": "code",
      "source": [
        "teaser_articles_list[0]"
      ],
      "metadata": {
        "colab": {
          "base_uri": "https://localhost:8080/"
        },
        "id": "BEosFkhlS6Ns",
        "outputId": "118dd619-f9af-4ede-e021-a811a1672fac"
      },
      "execution_count": 47,
      "outputs": [
        {
          "output_type": "execute_result",
          "data": {
            "text/plain": [
              "<div class=\"card columns is-flex-direction-row cat-list-rtl m-0\" id=\"post-562312186\">\n",
              "<div class=\"card-date column py-5 px-0\">\n",
              "08.03.2023 </div>\n",
              "<div class=\"card-content column\">\n",
              "<div class=\"media mb-4\">\n",
              "<div class=\"media-content\">\n",
              "<p class=\"subtitle is-7 mb-3\">ΚΟΙΝΩΝΙΑ</p>\n",
              "<a href=\"https://www.kathimerini.gr/society/562312186/tragodia-sta-tempi-syggeneis-ennea-nekron-zitoyn-na-min-oristei-efetis-stin-ereyna/\">\n",
              "<p class=\"title is-5 medium_title\">Τραγωδία στα Τέμπη: Συγγενείς εννέα νεκρών ζητούν να μην οριστεί εφέτης στην έρευνα</p>\n",
              "</a>\n",
              "</div>\n",
              "</div>\n",
              "<div class=\"content is-5 medium_lead is-hidden-touch\">\n",
              "<a href=\"https://www.kathimerini.gr/society/562312186/tragodia-sta-tempi-syggeneis-ennea-nekron-zitoyn-na-min-oristei-efetis-stin-ereyna/\">\n",
              "<p>Όπως αναφέρεται σε σχετικό δελτίου Τύπου, οι συγγενείς θα καταθέσουν στον προϊστάμενο της Εισαγγελίας Εφετών Λάρισας αίτημα προκειμένου να εκφράσουν την αντίρρησή τους στον ορισμό εφετών.</p>\n",
              "</a>\n",
              "</div>\n",
              "</div>\n",
              "<div class=\"card-image column\">\n",
              "<a class=\"is-elem-fullheight\" href=\"https://www.kathimerini.gr/society/562312186/tragodia-sta-tempi-syggeneis-ennea-nekron-zitoyn-na-min-oristei-efetis-stin-ereyna/\">\n",
              "<figure class=\"image\">\n",
              "<picture class=\"lazy\"> <source data-srcset=\"https://www.kathimerini.gr/wp-content/uploads/2023/03/tempi-trena-siggenies.jpg\" media=\"(min-width: 1025px)\" type=\"image/jpeg\"/> <source data-srcset=\"https://www.kathimerini.gr/wp-content/uploads/2023/03/tempi-trena-siggenies.jpg\" media=\"(min-width: 769px ) and ( max-width: 1024px)\" type=\"image/jpeg\"/> <source data-srcset=\"https://www.kathimerini.gr/wp-content/uploads/2023/03/tempi-trena-siggenies.jpg\" media=\"(max-width: 768px)\" type=\"image/jpeg\"/><img alt=\"tragodia-sta-tempi-syggeneis-ennea-nekron-zitoyn-na-min-oristei-efetis-stin-ereyna-562312183\" class=\"picture-nx-medium-two\" data-lazy-type=\"image\" data-src=\"https://www.kathimerini.gr/wp-content/uploads/2023/03/tempi-trena-siggenies.jpg\" height=\"370\" src=\"data:image/jpg;base64,iVBORw0KGgoAAAANSUhEUgAAAAgAAAAFAQMAAAE1WA+AAAAAA1BMVEX///+nxBvIAAAAAXRSTlMAQObYZgAAAAlwSFlzAAAOxAAADsQBlSsOGwAAAAtJREFUCJljYMAGAAAWAAErufI8AAAAAElFTkSuQmCC\" width=\"592\"/></picture> </figure>\n",
              "</a>\n",
              "</div>\n",
              "</div>"
            ]
          },
          "metadata": {},
          "execution_count": 47
        }
      ]
    },
    {
      "cell_type": "code",
      "source": [
        "print(teaser_articles_list[0].prettify())"
      ],
      "metadata": {
        "colab": {
          "base_uri": "https://localhost:8080/"
        },
        "id": "yZ5WlMwiTIow",
        "outputId": "738e985d-d835-424a-fc8b-90e9f0492c5e"
      },
      "execution_count": 48,
      "outputs": [
        {
          "output_type": "stream",
          "name": "stdout",
          "text": [
            "<div class=\"card columns is-flex-direction-row cat-list-rtl m-0\" id=\"post-562312186\">\n",
            " <div class=\"card-date column py-5 px-0\">\n",
            "  08.03.2023\n",
            " </div>\n",
            " <div class=\"card-content column\">\n",
            "  <div class=\"media mb-4\">\n",
            "   <div class=\"media-content\">\n",
            "    <p class=\"subtitle is-7 mb-3\">\n",
            "     ΚΟΙΝΩΝΙΑ\n",
            "    </p>\n",
            "    <a href=\"https://www.kathimerini.gr/society/562312186/tragodia-sta-tempi-syggeneis-ennea-nekron-zitoyn-na-min-oristei-efetis-stin-ereyna/\">\n",
            "     <p class=\"title is-5 medium_title\">\n",
            "      Τραγωδία στα Τέμπη: Συγγενείς εννέα νεκρών ζητούν να μην οριστεί εφέτης στην έρευνα\n",
            "     </p>\n",
            "    </a>\n",
            "   </div>\n",
            "  </div>\n",
            "  <div class=\"content is-5 medium_lead is-hidden-touch\">\n",
            "   <a href=\"https://www.kathimerini.gr/society/562312186/tragodia-sta-tempi-syggeneis-ennea-nekron-zitoyn-na-min-oristei-efetis-stin-ereyna/\">\n",
            "    <p>\n",
            "     Όπως αναφέρεται σε σχετικό δελτίου Τύπου, οι συγγενείς θα καταθέσουν στον προϊστάμενο της Εισαγγελίας Εφετών Λάρισας αίτημα προκειμένου να εκφράσουν την αντίρρησή τους στον ορισμό εφετών.\n",
            "    </p>\n",
            "   </a>\n",
            "  </div>\n",
            " </div>\n",
            " <div class=\"card-image column\">\n",
            "  <a class=\"is-elem-fullheight\" href=\"https://www.kathimerini.gr/society/562312186/tragodia-sta-tempi-syggeneis-ennea-nekron-zitoyn-na-min-oristei-efetis-stin-ereyna/\">\n",
            "   <figure class=\"image\">\n",
            "    <picture class=\"lazy\">\n",
            "     <source data-srcset=\"https://www.kathimerini.gr/wp-content/uploads/2023/03/tempi-trena-siggenies.jpg\" media=\"(min-width: 1025px)\" type=\"image/jpeg\"/>\n",
            "     <source data-srcset=\"https://www.kathimerini.gr/wp-content/uploads/2023/03/tempi-trena-siggenies.jpg\" media=\"(min-width: 769px ) and ( max-width: 1024px)\" type=\"image/jpeg\"/>\n",
            "     <source data-srcset=\"https://www.kathimerini.gr/wp-content/uploads/2023/03/tempi-trena-siggenies.jpg\" media=\"(max-width: 768px)\" type=\"image/jpeg\"/>\n",
            "     <img alt=\"tragodia-sta-tempi-syggeneis-ennea-nekron-zitoyn-na-min-oristei-efetis-stin-ereyna-562312183\" class=\"picture-nx-medium-two\" data-lazy-type=\"image\" data-src=\"https://www.kathimerini.gr/wp-content/uploads/2023/03/tempi-trena-siggenies.jpg\" height=\"370\" src=\"data:image/jpg;base64,iVBORw0KGgoAAAANSUhEUgAAAAgAAAAFAQMAAAE1WA+AAAAAA1BMVEX///+nxBvIAAAAAXRSTlMAQObYZgAAAAlwSFlzAAAOxAAADsQBlSsOGwAAAAtJREFUCJljYMAGAAAWAAErufI8AAAAAElFTkSuQmCC\" width=\"592\"/>\n",
            "    </picture>\n",
            "   </figure>\n",
            "  </a>\n",
            " </div>\n",
            "</div>\n",
            "\n"
          ]
        }
      ]
    },
    {
      "cell_type": "code",
      "source": [
        "link = teaser_articles_list[0].find('a')['href']\n",
        "print(link)"
      ],
      "metadata": {
        "colab": {
          "base_uri": "https://localhost:8080/"
        },
        "id": "IhcC8tM6TMbv",
        "outputId": "dcad35c8-35b2-4a7f-a5c8-7c874982cbbf"
      },
      "execution_count": 49,
      "outputs": [
        {
          "output_type": "stream",
          "name": "stdout",
          "text": [
            "https://www.kathimerini.gr/society/562312186/tragodia-sta-tempi-syggeneis-ennea-nekron-zitoyn-na-min-oristei-efetis-stin-ereyna/\n"
          ]
        }
      ]
    },
    {
      "cell_type": "code",
      "source": [
        "\n",
        "article_link = link\n",
        "print(article_link)"
      ],
      "metadata": {
        "colab": {
          "base_uri": "https://localhost:8080/"
        },
        "id": "Ba3SAbOCVWtJ",
        "outputId": "e4cd8e23-5514-4b62-c7f4-4256316829e4"
      },
      "execution_count": 50,
      "outputs": [
        {
          "output_type": "stream",
          "name": "stdout",
          "text": [
            "https://www.kathimerini.gr/society/562312186/tragodia-sta-tempi-syggeneis-ennea-nekron-zitoyn-na-min-oristei-efetis-stin-ereyna/\n"
          ]
        }
      ]
    },
    {
      "cell_type": "code",
      "source": [
        "teasers_list = []\n",
        "\n",
        "for page_num in range(start_page, end_page):\n",
        "  page_url = start_url + str(page_num)\n",
        "  response = requests.get(page_url)\n",
        "  doc = BeautifulSoup(response.text, 'html.parser')\n",
        "\n",
        "\n",
        "  teaser_articles_list = doc.find('div', {'class': 'columns is-flex-wrap-wrap'}).find_all('div',{'class': 'card columns is-flex-direction-row cat-list-rtl m-0'})\n",
        "\n",
        "\n",
        "  for teaser in teaser_articles_list:\n",
        "      story_dict = {}\n",
        "      try:\n",
        "\n",
        "\n",
        "        link = teaser.find('a')['href']\n",
        "\n",
        "\n",
        "        if link.startswith(\"http\"):\n",
        "          story_dict['url'] = link\n",
        "        else:\n",
        "          story_dict['url'] = link\n",
        "      except:\n",
        "        story_dict['url'] = ''\n",
        "        pass\n",
        "      teasers_list.append(story_dict)\n",
        "  time.sleep(1)"
      ],
      "metadata": {
        "id": "LWjgtgQwVnNg"
      },
      "execution_count": 51,
      "outputs": []
    },
    {
      "cell_type": "code",
      "source": [
        "kathimerini_teasers_df = pd.DataFrame(teasers_list)\n",
        "kathimerini_teasers_df"
      ],
      "metadata": {
        "colab": {
          "base_uri": "https://localhost:8080/",
          "height": 423
        },
        "id": "2utW3u6xWdGo",
        "outputId": "d7ae0a59-7f13-424d-e904-80b6031255fb"
      },
      "execution_count": 52,
      "outputs": [
        {
          "output_type": "execute_result",
          "data": {
            "text/plain": [
              "                                                   url\n",
              "0    https://www.kathimerini.gr/society/562312186/t...\n",
              "1    https://www.kathimerini.gr/society/562311997/t...\n",
              "2    https://www.kathimerini.gr/society/562311928/v...\n",
              "3    https://www.kathimerini.gr/society/562311403/t...\n",
              "4    https://www.kathimerini.gr/society/562311394/t...\n",
              "..                                                 ...\n",
              "201  https://www.kathimerini.gr/society/562300477/s...\n",
              "202  https://www.kathimerini.gr/politics/foreign-po...\n",
              "203  https://www.kathimerini.gr/society/562300459/s...\n",
              "204  https://www.kathimerini.gr/society/562300423/s...\n",
              "205  https://www.kathimerini.gr/society/562300363/s...\n",
              "\n",
              "[206 rows x 1 columns]"
            ],
            "text/html": [
              "\n",
              "  <div id=\"df-e4c4df27-6a9f-4c4a-bb31-d1cb20ad3618\">\n",
              "    <div class=\"colab-df-container\">\n",
              "      <div>\n",
              "<style scoped>\n",
              "    .dataframe tbody tr th:only-of-type {\n",
              "        vertical-align: middle;\n",
              "    }\n",
              "\n",
              "    .dataframe tbody tr th {\n",
              "        vertical-align: top;\n",
              "    }\n",
              "\n",
              "    .dataframe thead th {\n",
              "        text-align: right;\n",
              "    }\n",
              "</style>\n",
              "<table border=\"1\" class=\"dataframe\">\n",
              "  <thead>\n",
              "    <tr style=\"text-align: right;\">\n",
              "      <th></th>\n",
              "      <th>url</th>\n",
              "    </tr>\n",
              "  </thead>\n",
              "  <tbody>\n",
              "    <tr>\n",
              "      <th>0</th>\n",
              "      <td>https://www.kathimerini.gr/society/562312186/t...</td>\n",
              "    </tr>\n",
              "    <tr>\n",
              "      <th>1</th>\n",
              "      <td>https://www.kathimerini.gr/society/562311997/t...</td>\n",
              "    </tr>\n",
              "    <tr>\n",
              "      <th>2</th>\n",
              "      <td>https://www.kathimerini.gr/society/562311928/v...</td>\n",
              "    </tr>\n",
              "    <tr>\n",
              "      <th>3</th>\n",
              "      <td>https://www.kathimerini.gr/society/562311403/t...</td>\n",
              "    </tr>\n",
              "    <tr>\n",
              "      <th>4</th>\n",
              "      <td>https://www.kathimerini.gr/society/562311394/t...</td>\n",
              "    </tr>\n",
              "    <tr>\n",
              "      <th>...</th>\n",
              "      <td>...</td>\n",
              "    </tr>\n",
              "    <tr>\n",
              "      <th>201</th>\n",
              "      <td>https://www.kathimerini.gr/society/562300477/s...</td>\n",
              "    </tr>\n",
              "    <tr>\n",
              "      <th>202</th>\n",
              "      <td>https://www.kathimerini.gr/politics/foreign-po...</td>\n",
              "    </tr>\n",
              "    <tr>\n",
              "      <th>203</th>\n",
              "      <td>https://www.kathimerini.gr/society/562300459/s...</td>\n",
              "    </tr>\n",
              "    <tr>\n",
              "      <th>204</th>\n",
              "      <td>https://www.kathimerini.gr/society/562300423/s...</td>\n",
              "    </tr>\n",
              "    <tr>\n",
              "      <th>205</th>\n",
              "      <td>https://www.kathimerini.gr/society/562300363/s...</td>\n",
              "    </tr>\n",
              "  </tbody>\n",
              "</table>\n",
              "<p>206 rows × 1 columns</p>\n",
              "</div>\n",
              "      <button class=\"colab-df-convert\" onclick=\"convertToInteractive('df-e4c4df27-6a9f-4c4a-bb31-d1cb20ad3618')\"\n",
              "              title=\"Convert this dataframe to an interactive table.\"\n",
              "              style=\"display:none;\">\n",
              "        \n",
              "  <svg xmlns=\"http://www.w3.org/2000/svg\" height=\"24px\"viewBox=\"0 0 24 24\"\n",
              "       width=\"24px\">\n",
              "    <path d=\"M0 0h24v24H0V0z\" fill=\"none\"/>\n",
              "    <path d=\"M18.56 5.44l.94 2.06.94-2.06 2.06-.94-2.06-.94-.94-2.06-.94 2.06-2.06.94zm-11 1L8.5 8.5l.94-2.06 2.06-.94-2.06-.94L8.5 2.5l-.94 2.06-2.06.94zm10 10l.94 2.06.94-2.06 2.06-.94-2.06-.94-.94-2.06-.94 2.06-2.06.94z\"/><path d=\"M17.41 7.96l-1.37-1.37c-.4-.4-.92-.59-1.43-.59-.52 0-1.04.2-1.43.59L10.3 9.45l-7.72 7.72c-.78.78-.78 2.05 0 2.83L4 21.41c.39.39.9.59 1.41.59.51 0 1.02-.2 1.41-.59l7.78-7.78 2.81-2.81c.8-.78.8-2.07 0-2.86zM5.41 20L4 18.59l7.72-7.72 1.47 1.35L5.41 20z\"/>\n",
              "  </svg>\n",
              "      </button>\n",
              "      \n",
              "  <style>\n",
              "    .colab-df-container {\n",
              "      display:flex;\n",
              "      flex-wrap:wrap;\n",
              "      gap: 12px;\n",
              "    }\n",
              "\n",
              "    .colab-df-convert {\n",
              "      background-color: #E8F0FE;\n",
              "      border: none;\n",
              "      border-radius: 50%;\n",
              "      cursor: pointer;\n",
              "      display: none;\n",
              "      fill: #1967D2;\n",
              "      height: 32px;\n",
              "      padding: 0 0 0 0;\n",
              "      width: 32px;\n",
              "    }\n",
              "\n",
              "    .colab-df-convert:hover {\n",
              "      background-color: #E2EBFA;\n",
              "      box-shadow: 0px 1px 2px rgba(60, 64, 67, 0.3), 0px 1px 3px 1px rgba(60, 64, 67, 0.15);\n",
              "      fill: #174EA6;\n",
              "    }\n",
              "\n",
              "    [theme=dark] .colab-df-convert {\n",
              "      background-color: #3B4455;\n",
              "      fill: #D2E3FC;\n",
              "    }\n",
              "\n",
              "    [theme=dark] .colab-df-convert:hover {\n",
              "      background-color: #434B5C;\n",
              "      box-shadow: 0px 1px 3px 1px rgba(0, 0, 0, 0.15);\n",
              "      filter: drop-shadow(0px 1px 2px rgba(0, 0, 0, 0.3));\n",
              "      fill: #FFFFFF;\n",
              "    }\n",
              "  </style>\n",
              "\n",
              "      <script>\n",
              "        const buttonEl =\n",
              "          document.querySelector('#df-e4c4df27-6a9f-4c4a-bb31-d1cb20ad3618 button.colab-df-convert');\n",
              "        buttonEl.style.display =\n",
              "          google.colab.kernel.accessAllowed ? 'block' : 'none';\n",
              "\n",
              "        async function convertToInteractive(key) {\n",
              "          const element = document.querySelector('#df-e4c4df27-6a9f-4c4a-bb31-d1cb20ad3618');\n",
              "          const dataTable =\n",
              "            await google.colab.kernel.invokeFunction('convertToInteractive',\n",
              "                                                     [key], {});\n",
              "          if (!dataTable) return;\n",
              "\n",
              "          const docLinkHtml = 'Like what you see? Visit the ' +\n",
              "            '<a target=\"_blank\" href=https://colab.research.google.com/notebooks/data_table.ipynb>data table notebook</a>'\n",
              "            + ' to learn more about interactive tables.';\n",
              "          element.innerHTML = '';\n",
              "          dataTable['output_type'] = 'display_data';\n",
              "          await google.colab.output.renderOutput(dataTable, element);\n",
              "          const docLink = document.createElement('div');\n",
              "          docLink.innerHTML = docLinkHtml;\n",
              "          element.appendChild(docLink);\n",
              "        }\n",
              "      </script>\n",
              "    </div>\n",
              "  </div>\n",
              "  "
            ]
          },
          "metadata": {},
          "execution_count": 52
        }
      ]
    },
    {
      "cell_type": "code",
      "source": [
        "kathimerini_teasers_df.to_csv('/content/drive/MyDrive/Colab Notebooks.csv', index=False)"
      ],
      "metadata": {
        "id": "FB4DruNwWrlv"
      },
      "execution_count": 70,
      "outputs": []
    },
    {
      "cell_type": "code",
      "source": [
        "article_url = 'https://www.kathimerini.gr/society/562310719/tempi-se-pliri-exelixi-oi-ereynes-gia-tin-tragodia/'"
      ],
      "metadata": {
        "id": "kvnaApqNYL1P"
      },
      "execution_count": 71,
      "outputs": []
    },
    {
      "cell_type": "code",
      "source": [
        "response = requests.get(article_url)\n",
        "doc = BeautifulSoup(response.text, 'html.parser')"
      ],
      "metadata": {
        "id": "rR7_qCIQYT2h"
      },
      "execution_count": 72,
      "outputs": []
    },
    {
      "cell_type": "code",
      "source": [
        "article = doc.find('div', {'class': 'column p-0 entry-content content'})\n",
        "print(article.prettify())"
      ],
      "metadata": {
        "colab": {
          "base_uri": "https://localhost:8080/"
        },
        "id": "nzlDnyz7YYF3",
        "outputId": "e2e0b1ed-4aea-4641-95f5-03bf6dfbbb56"
      },
      "execution_count": 73,
      "outputs": [
        {
          "output_type": "stream",
          "name": "stdout",
          "text": [
            "<div class=\"column p-0 entry-content content\" id=\"main-content\">\n",
            " <div class=\"entry-content-meta-wrapper columns is-vcentered nx-single-meta-wrapper is-flex-wrap-wrap\">\n",
            "  <div class=\"meta-wrapper column\">\n",
            "   <span class=\"author is-align-items-center vcard\">\n",
            "    <a href=\"https://www.kathimerini.gr/author/ioanna-mandroy/\">\n",
            "     <img src=\"https://www.kathimerini.gr/wp-content/uploads/2020/08/Ioanna_Mandrou-min.jpg\"/>\n",
            "    </a>\n",
            "    <a class=\"url fn n\" href=\"https://www.kathimerini.gr/author/ioanna-mandroy/\" rel=\"author\">\n",
            "     Ιωάννα Μάνδρου\n",
            "    </a>\n",
            "   </span>\n",
            "   <span class=\"posted-on\">\n",
            "    <time class=\"entry-date published\" datetime=\"2023-03-07T17:00:00+02:00\">\n",
            "     07.03.2023 • 17:00\n",
            "    </time>\n",
            "   </span>\n",
            "  </div>\n",
            " </div>\n",
            " <div class=\"column social-share-wrapper my-4 not-logged\">\n",
            "  <a class=\"social-tool bookmark-add user-signed\" data-post='{\"id\":562310719,\"title\":\"\\u03a4\\u03ad\\u03bc\\u03c0\\u03b7: \\u03a3\\u03b5 \\u03c0\\u03bb\\u03ae\\u03c1\\u03b7 \\u03b5\\u03be\\u03ad\\u03bb\\u03b9\\u03be\\u03b7 \\u03bf\\u03b9 \\u03ad\\u03c1\\u03b5\\u03c5\\u03bd\\u03b5\\u03c2 \\u03b3\\u03b9\\u03b1 \\u03c4\\u03b7\\u03bd \\u03c4\\u03c1\\u03b1\\u03b3\\u03c9\\u03b4\\u03af\\u03b1\",\"excerpt\":\"\\u03a4\\u03b7 \\u03b4\\u03b9\\u03ba\\u03bf\\u03b3\\u03c1\\u03b1\\u03c6\\u03af\\u03b1 \\u03b3\\u03b9\\u03b1 \\u03c4\\u03bf \\u03b4\\u03c5\\u03c3\\u03c4\\u03cd\\u03c7\\u03b7\\u03bc\\u03b1 \\u03c3\\u03c4\\u03bf \\u0391\\u03b4\\u03b5\\u03bd\\u03b4\\u03c1\\u03bf \\u0398\\u03b5\\u03c3\\u03c3\\u03b1\\u03bb\\u03bf\\u03bd\\u03af\\u03ba\\u03b7\\u03c2 \\u03c4\\u03bf 2017 \\u03b6\\u03ae\\u03c4\\u03b7\\u03c3\\u03b5 \\u03bf \\u0395\\u03b9\\u03c3\\u03b1\\u03b3\\u03b3\\u03b5\\u03bb\\u03ad\\u03b1\\u03c2 \\u03c4\\u03bf\\u03c5 \\u0391\\u03c1\\u03b5\\u03af\\u03bf\\u03c5 \\u03a0\\u03ac\\u03b3\\u03bf\\u03c5 \\u2013 \\u03a0\\u03bf\\u03b9\\u03b5\\u03c2 \\u03c3\\u03c5\\u03bc\\u03b2\\u03ac\\u03c3\\u03b5\\u03b9\\u03c2 \\u03b3\\u03b9\\u03b1 \\u03ad\\u03c1\\u03b3\\u03b1 \\u03c4\\u03bf\\u03c5 \\u039f\\u03a3\\u0395 \\u03c0\\u03bf\\u03c5 \\u03b4\\u03b5\\u03bd \\u03ad\\u03b3\\u03b9\\u03bd\\u03b1\\u03bd \\u03c3\\u03c4\\u03b7\\u03bd \\u03ce\\u03c1\\u03b1 \\u03c4\\u03bf\\u03c5\\u03c2, \\u03b4\\u03b9\\u03b5\\u03c1\\u03b5\\u03c5\\u03bd\\u03ac \\u03b7 \\u039f\\u03b9\\u03ba\\u03bf\\u03bd\\u03bf\\u03bc\\u03b9\\u03ba\\u03ae \\u0395\\u03b9\\u03c3\\u03b1\\u03b3\\u03b3\\u03b5\\u03bb\\u03af\\u03b1.\\r\\n\",\"hypertitle\":\"\\u039a\\u039f\\u0399\\u039d\\u03a9\\u039d\\u0399\\u0391\",\"permalink\":\"https:\\/\\/www.kathimerini.gr\\/society\\/562310719\\/tempi-se-pliri-exelixi-oi-ereynes-gia-tin-tragodia\\/\",\"featured_image\":\"https:\\/\\/www.kathimerini.gr\\/wp-content\\/uploads\\/2023\\/03\\/5d62761389f0b43248e524af321e45b7_AP23060242605437-1-768x480-1.jpg\",\"date\":\"07.03.2023 \\u2022 16:06\",\"date_zulu\":\"2023-03-07T15:00:00Z\"}' data-post_id=\"562310719\">\n",
            "   <svg enable-background=\"new 0 0 400.724 558\" height=\"21\" id=\"Layer_1\" version=\"1.1\" viewbox=\"0 0 400.724 558\" width=\"16\" x=\"0px\" xml:space=\"preserve\" xmlns=\"http://www.w3.org/2000/svg\" xmlns:xlink=\"http://www.w3.org/1999/xlink\" y=\"0px\">\n",
            "    <path d=\"M381.69,47.68c-2.53-6.6-6.34-12.689-11.42-17.5c-4.81-5.109-10.91-9.17-17.25-11.949\r\n",
            "            c-6.59-2.771-13.46-4.301-20.54-4.301H66.03c-7.1,0-14.22,1.53-20.56,4.301c-6.59,2.779-12.43,6.84-17.25,11.949\r\n",
            "            c-4.82,5.051-8.88,10.9-11.42,17.5C14.26,54.27,13,61.11,13,68.24v450.38c-0.51,3.3-0.51,6.87,0.5,10.17\r\n",
            "            c1.02,3.04,2.54,6.09,4.82,8.62c2.04,2.8,4.82,4.83,7.87,6.59c3.05,1.54,6.59,2.55,9.9,2.8c3.54,0.25,7.1-0.25,10.4-1.26\r\n",
            "            c3.04-1.271,6.09-3.05,8.63-5.33L188.34,425c1.26-1.53,2.53-2.55,4.31-3.29c1.53-0.77,3.3-1.02,5.07-1.02\r\n",
            "            c1.78,0,3.56,0.25,5.08,1.02c1.78,0.74,3.3,1.76,4.31,3.29l133.22,115.21c5.85,3.05,12.19,4.81,18.78,5.33\r\n",
            "            c3.55,0.25,7.12-0.521,10.41-1.79c3.3-1.26,6.35-3.29,8.87-5.82c2.53-2.55,4.32-5.33,5.58-8.899c1.29-3.29,1.78-6.84,1.78-10.41\r\n",
            "            V68.24C385.75,61.11,384.49,54.27,381.69,47.68z M335,461.8l-90.32-77.91c-12.44-10.409-27.93-15.979-44.16-15.979\r\n",
            "            c-15.99,0-31.72,5.57-43.9,15.979L66.03,461.8V67.45H335V461.8z\" fill=\"#108EC6\">\n",
            "    </path>\n",
            "    <path class=\"inner\" d=\"M335,67.45V461.8l-90.32-77.91c-12.44-10.409-27.93-15.979-44.16-15.979c-15.99,0-31.72,5.57-43.9,15.979 L66.03,461.8V67.45H335z\" fill=\"#fff\">\n",
            "    </path>\n",
            "   </svg>\n",
            "   <span>\n",
            "   </span>\n",
            "  </a>\n",
            "  <div class=\"share-holder is-flex\">\n",
            "   <a class=\"social-tool share-tool\">\n",
            "    <svg fill=\"none\" height=\"22\" viewbox=\"0 0 19 22\" width=\"19\" xmlns=\"http://www.w3.org/2000/svg\">\n",
            "     <path clip-rule=\"evenodd\" d=\"M18.9571 3.94353C18.9571 4.65226 18.7475 5.34516 18.3548 5.93513C17.9621 6.52509 17.4037 6.98578 16.7499 7.25928C16.096 7.53277 15.3759 7.60686 14.6801 7.47223C13.9843 7.3376 13.3438 7.00026 12.8391 6.50263L7.13481 9.64565C7.41564 10.4294 7.41525 11.2864 7.13371 12.0698L12.8358 15.2106C13.4452 14.6091 14.2492 14.2449 15.1033 14.1836C15.9573 14.1222 16.8051 14.3677 17.4942 14.8759C18.1833 15.3842 18.6683 16.1217 18.862 16.9557C19.0556 17.7898 18.9451 18.6655 18.5504 19.4253C18.1558 20.1852 17.5028 20.7792 16.7091 21.1003C15.9154 21.4215 15.0331 21.4488 14.2211 21.1773C13.409 20.9058 12.7206 20.3533 12.2797 19.6193C11.8388 18.8853 11.6745 18.0181 11.8162 17.1736L5.75794 13.8371C5.21696 14.2013 4.58706 14.4115 3.93574 14.4452C3.28443 14.4788 2.63624 14.3345 2.06063 14.0279C1.48502 13.7213 1.00369 13.2638 0.668219 12.7045C0.332744 12.1452 0.155767 11.5052 0.156251 10.853C0.156735 10.2008 0.334662 9.56108 0.670967 9.00229C1.00727 8.44351 1.48928 7.98675 2.06534 7.68098C2.6414 7.3752 3.2898 7.23193 3.94107 7.26651C4.59234 7.30109 5.22192 7.51223 5.76236 7.87729L11.8162 4.53962C11.7358 4.05011 11.7576 3.54926 11.8802 3.06859C12.0028 2.58792 12.2236 2.13784 12.5287 1.74667C12.8337 1.3555 13.2165 1.03171 13.6528 0.795688C14.0891 0.559665 14.5695 0.416516 15.0639 0.375251C15.5582 0.333985 16.0558 0.395497 16.5252 0.555913C16.9946 0.71633 17.4257 0.972179 17.7914 1.30736C18.1571 1.64253 18.4495 2.04978 18.6501 2.50347C18.8507 2.95716 18.9552 3.44747 18.9571 3.94353Z\" fill=\"#108EC6\" fill-rule=\"evenodd\">\n",
            "     </path>\n",
            "    </svg>\n",
            "    <span>\n",
            "     Κοινοποίηση\n",
            "    </span>\n",
            "   </a>\n",
            "   <div class=\"socials-holder mt-2 is-hidden-touch\">\n",
            "    <div class=\"socials-container\">\n",
            "     <a aria-label=\"Κοινοποίηση στο facebook\" href=\"https://www.facebook.com/sharer/sharer.php?u=https%3A%2F%2Fwww.kathimerini.gr%2Fsociety%2F562310719%2Ftempi-se-pliri-exelixi-oi-ereynes-gia-tin-tragodia%2F\" onclick=\"javascript:window.open(this.href, '', 'menubar=no,toolbar=no,resizable=yes,scrollbars=yes,height=545,width=560');return false;\" rel=\"noopener noreferrer\">\n",
            "      <svg class=\"svg-social-icon\" height=\"25\" viewbox=\"0 0 7 15\" width=\"25\">\n",
            "       <path clip-rule=\"evenodd\" d=\"M4.775 14.163V7.08h1.923l.255-2.441H4.775l.004-1.222c0-.636.06-.977.958-.977H6.94V0H5.016c-2.31 0-3.123 1.184-3.123 3.175V4.64H.453v2.44h1.44v7.083h2.882z\" fill=\"#000\" fill-rule=\"evenodd\">\n",
            "       </path>\n",
            "      </svg>\n",
            "     </a>\n",
            "     <a aria-label=\"Share on Twitter\" href=\"https://twitter.com/intent/tweet?url=https%3A%2F%2Fwww.kathimerini.gr%2Fsociety%2F562310719%2Ftempi-se-pliri-exelixi-oi-ereynes-gia-tin-tragodia%2F\" onclick=\"javascript:window.open(this.href, '', 'menubar=no,toolbar=no,resizable=yes,scrollbars=yes,height=545,width=560');return false;\" rel=\"noopener noreferrer\" target=\"_blank\">\n",
            "      <svg class=\"svg-social-icon\" height=\"25\" viewbox=\"0 0 13 10\" width=\"25\">\n",
            "       <path clip-rule=\"evenodd\" d=\"M5.987 2.772l.025.425-.429-.052c-1.562-.2-2.927-.876-4.086-2.011L.93.571.784.987c-.309.927-.111 1.906.533 2.565.343.364.266.416-.327.2-.206-.07-.386-.122-.403-.096-.06.06.146.85.309 1.161.223.434.678.858 1.176 1.11l.42.199-.497.009c-.481 0-.498.008-.447.19.172.564.85 1.162 1.606 1.422l.532.182-.464.277a4.833 4.833 0 0 1-2.3.641c-.387.009-.704.044-.704.07 0 .086 1.047.572 1.657.762 1.828.564 4 .32 5.631-.641 1.159-.685 2.318-2.045 2.859-3.363.292-.702.583-1.984.583-2.6 0-.398.026-.45.507-.927.283-.277.55-.58.6-.667.087-.165.078-.165-.36-.018-.73.26-.832.226-.472-.164.266-.278.584-.78.584-.928 0-.026-.129.018-.275.096a4.79 4.79 0 0 1-.755.294l-.464.148-.42-.286C9.66.467 9.335.293 9.163.24 8.725.12 8.055.137 7.66.276c-1.074.39-1.752 1.395-1.674 2.496z\" fill=\"#000\" fill-rule=\"evenodd\">\n",
            "       </path>\n",
            "      </svg>\n",
            "     </a>\n",
            "     <a aria-label=\"Share on LinkedIn\" href=\"https://www.linkedin.com/sharing/share-offsite/?url=https%3A%2F%2Fwww.kathimerini.gr%2Fsociety%2F562310719%2Ftempi-se-pliri-exelixi-oi-ereynes-gia-tin-tragodia%2F\" onclick=\"javascript:window.open(this.href, '', 'menubar=no,toolbar=no,resizable=yes,scrollbars=yes,height=545,width=560');return false;\" rel=\"noopener noreferrer\" target=\"_blank\">\n",
            "      <svg class=\"svg-social-icon\" fill=\"none\" height=\"25\" viewbox=\"0 0 20 20\" width=\"25\" xmlns=\"http://www.w3.org/2000/svg\">\n",
            "       <g clip-path=\"url(#clip0_150_73)\">\n",
            "        <path d=\"M4.8997 6.30798H1.06652C0.896392 6.30798 0.758545 6.44589 0.758545 6.61595V18.9303C0.758545 19.1004 0.896392 19.2383 1.06652 19.2383H4.8997C5.06982 19.2383 5.20767 19.1004 5.20767 18.9303V6.61595C5.20767 6.44589 5.06982 6.30798 4.8997 6.30798Z\" fill=\"#000\">\n",
            "        </path>\n",
            "        <path d=\"M2.9845 0.186157C1.58976 0.186157 0.455078 1.31961 0.455078 2.71281C0.455078 4.10662 1.58976 5.2405 2.9845 5.2405C4.37813 5.2405 5.51189 4.10656 5.51189 2.71281C5.51195 1.31961 4.37813 0.186157 2.9845 0.186157Z\" fill=\"#000\">\n",
            "        </path>\n",
            "        <path d=\"M14.6498 6.00183C13.1102 6.00183 11.9722 6.66366 11.2819 7.41566V6.61586C11.2819 6.4458 11.144 6.30789 10.9739 6.30789H7.30297C7.13284 6.30789 6.995 6.4458 6.995 6.61586V18.9302C6.995 19.1004 7.13284 19.2382 7.30297 19.2382H11.1278C11.2979 19.2382 11.4357 19.1004 11.4357 18.9302V12.8375C11.4357 10.7844 11.9934 9.9845 13.4246 9.9845C14.9833 9.9845 15.1072 11.2668 15.1072 12.9431V18.9303C15.1072 19.1004 15.245 19.2383 15.4151 19.2383H19.2414C19.4115 19.2383 19.5493 19.1004 19.5493 18.9303V12.1756C19.5493 9.12274 18.9672 6.00183 14.6498 6.00183Z\" fill=\"#000\">\n",
            "        </path>\n",
            "       </g>\n",
            "       <defs>\n",
            "        <clippath id=\"clip0_150_73\">\n",
            "         <rect fill=\"white\" height=\"19.0942\" transform=\"translate(0.455078 0.165161)\" width=\"19.0942\">\n",
            "         </rect>\n",
            "        </clippath>\n",
            "       </defs>\n",
            "      </svg>\n",
            "     </a>\n",
            "     <a href=\"#\" onclick=\"javascript:navigator.clipboard.writeText(window.location.href); return false;\">\n",
            "      <svg fill=\"none\" height=\"25\" viewbox=\"0 0 23 24\" width=\"25\" xmlns=\"http://www.w3.org/2000/svg\">\n",
            "       <path d=\"M22.3951 7.78765L16.5438 13.6898C16.4513 13.7883 16.3396 13.8668 16.2156 13.9205C16.0916 13.9742 15.9579 14.0018 15.8228 14.0018C15.6877 14.0018 15.554 13.9742 15.43 13.9205C15.306 13.8668 15.1943 13.7883 15.1018 13.6898C15.0042 13.5958 14.9266 13.4831 14.8736 13.3585C14.8206 13.2338 14.7932 13.0997 14.7932 12.9642C14.7932 12.8287 14.8206 12.6946 14.8736 12.5699C14.9266 12.4452 15.0042 12.3325 15.1018 12.2385L14.6904 12.6545L20.856 6.44269L16.5438 2.07035L10.6879 7.97716C10.5947 8.07447 10.4827 8.15189 10.3588 8.20479C10.2349 8.25769 10.1016 8.28496 9.96684 8.28496C9.8321 8.28496 9.69874 8.25769 9.57483 8.20479C9.45092 8.15189 9.33901 8.07447 9.24582 7.97716C9.14825 7.88317 9.07061 7.77043 9.0176 7.64575C8.96459 7.52107 8.93726 7.387 8.93726 7.25152C8.93726 7.11604 8.96459 6.98194 9.0176 6.85726C9.07061 6.73258 9.14825 6.61987 9.24582 6.52588L15.1018 0.623692C15.2864 0.426819 15.5093 0.269906 15.757 0.16263C16.0046 0.0553537 16.2716 0 16.5415 0C16.8114 0 17.0784 0.0553537 17.326 0.16263C17.5736 0.269906 17.7966 0.426819 17.9812 0.623692L22.2935 4.97292C23.2178 5.61075 23.2178 6.96033 22.3951 7.78765ZM13.6551 15.0348C13.7527 15.1288 13.8303 15.2415 13.8833 15.3662C13.9363 15.4909 13.9636 15.625 13.9636 15.7604C13.9636 15.8959 13.9363 16.03 13.8833 16.1547C13.8303 16.2794 13.7527 16.3921 13.6551 16.4861L7.80838 22.4067C7.62421 22.6035 7.40162 22.7604 7.15437 22.8676C6.90711 22.9748 6.64048 23.0301 6.37098 23.0301C6.10148 23.0301 5.83484 22.9748 5.58759 22.8676C5.34034 22.7604 5.11775 22.6035 4.93357 22.4067L0.616696 18.0575C0.421684 17.87 0.266541 17.6449 0.160571 17.3959C0.0546 17.147 0 16.8792 0 16.6086C0 16.338 0.0546 16.0702 0.160571 15.8212C0.266541 15.5722 0.421684 15.3472 0.616696 15.1596L6.47267 9.25741C6.56476 9.15904 6.67606 9.08064 6.79968 9.02702C6.92331 8.97341 7.05663 8.94572 7.19138 8.94572C7.32613 8.94572 7.45945 8.97341 7.58307 9.02702C7.7067 9.08064 7.81799 9.15904 7.91008 9.25741C8.00752 9.35101 8.08503 9.46334 8.13799 9.58764C8.19095 9.71194 8.21825 9.84563 8.21825 9.98074C8.21825 10.1159 8.19095 10.2496 8.13799 10.3739C8.08503 10.4982 8.00752 10.6105 7.91008 10.7041L2.05413 16.6109L6.37098 20.9601L12.2269 15.0533C12.3183 14.9563 12.4283 14.8788 12.5503 14.8252C12.6723 14.7716 12.8039 14.7431 12.9371 14.7414C13.0704 14.7396 13.2026 14.7647 13.3259 14.8151C13.4493 14.8655 13.5612 14.9402 13.6551 15.0348ZM15.8135 7.06201C15.9111 7.156 15.9887 7.26871 16.0417 7.39339C16.0948 7.51807 16.1221 7.65217 16.1221 7.78765C16.1221 7.92313 16.0948 8.05723 16.0417 8.18191C15.9887 8.30659 15.9111 8.4193 15.8135 8.51329L8.52018 15.8667C8.42773 15.9645 8.31632 16.0424 8.19274 16.0956C8.06917 16.1489 7.93603 16.1763 7.80147 16.1763C7.66692 16.1763 7.53378 16.1489 7.4102 16.0956C7.28662 16.0424 7.17521 15.9645 7.08277 15.8667C6.9852 15.7727 6.90756 15.66 6.85455 15.5354C6.80154 15.4107 6.77421 15.2766 6.77421 15.1411C6.77421 15.0056 6.80154 14.8715 6.85455 14.7469C6.90756 14.6222 6.9852 14.5095 7.08277 14.4155L14.3761 7.06201C14.4683 6.96216 14.5802 6.88247 14.7047 6.82798C14.8291 6.77348 14.9636 6.74535 15.0995 6.74535C15.2353 6.74535 15.3698 6.77348 15.4943 6.82798C15.6187 6.88247 15.7306 6.96216 15.8228 7.06201H15.8135Z\" fill=\"black\">\n",
            "       </path>\n",
            "      </svg>\n",
            "     </a>\n",
            "    </div>\n",
            "   </div>\n",
            "  </div>\n",
            " </div>\n",
            " <p>\n",
            "  Σε πλήρη εξέλιξη βρίσκονται οι δικαστικές έρευνες στη\n",
            "  <a href=\"https://www.kathimerini.gr/tag/larisa/\" rel=\"noopener\" target=\"_blank\">\n",
            "   <strong>\n",
            "    Λάρισα\n",
            "   </strong>\n",
            "  </a>\n",
            "  για την αναζήτηση των υπευθύνων για το\n",
            "  <a href=\"https://www.kathimerini.gr/tag/sygkroysi-amaxostoichion/\" rel=\"noopener\" target=\"_blank\">\n",
            "   <strong>\n",
            "    τραγικό δυστύχημα\n",
            "   </strong>\n",
            "  </a>\n",
            "  ενόψει της σύγκλισης της Ολομέλειας Εφετών που ζητήθηκε χθες από τον προϊστάμενο της Εισαγγελίας Εφετών Σταμάτη Δασκαλόπουλο.\n",
            " </p>\n",
            " <p>\n",
            "  Η ανακρίτρια της υπόθεσης ήδη εξετάζει ως μάρτυρες σταθμάρχες που υπηρετούν στη Λάρισα και άλλους εργαζόμενους του ΟΣΕ, ενώ αναμένονται με εξαιρετικό ενδιαφέρον οι πραγματογνωμοσύνες που ήδη έχουν διαταχθεί από εισαγγελικής πλευράς και διενεργούνται ήδη για τα αίτια του πολύνεκρου δυστυχήματος.\n",
            " </p>\n",
            " <div class=\"nx-banner-wrapper\">\n",
            "  <div class=\"nxAds gAdCentered\" id=\"nx_kathimerini_gr_Category_SB_1_mb_new\" style=\"\">\n",
            "   <div class=\"nx-ad-unit\" data-ad-slot=\"/68452758/www.kathimerini.gr/kathimerini.gr_Category_SB_1\" data-id=\"nx_ad_Category_SB_1_mb_new\" data-map-var=\"[[[1024,0],[]],[[768,0],[[300,250]]],[[320,0],[[300,600],[300,250]]],[[0,0],[]]]\" data-platform=\"mobile\" data-sizes=\"[[300,250],[300,600]]\">\n",
            "   </div>\n",
            "  </div>\n",
            " </div>\n",
            " <p>\n",
            "  Παράλληλα ο Εισαγγελέας του Αρείου Πάγου Ισίδωρος Ντογιάκος με έγγραφό του ζήτησε από την Εισαγγελία της Θεσσαλονίκης να του σταλεί η δικογραφία που είχε σχηματιστεί για τον εκτροχιασμό τρένου στο Άδενδρο Θεσσαλονίκης το 2017.\n",
            " </p>\n",
            " <p>\n",
            "  Ο ανώτατος εισαγγελικός λειτουργός, σύμφωνα με πληροφορίες, θα μελετήσει τη δικογραφία προκειμένου, αν χρειαστεί να ανοίξει νέα έρευνα για το τραγικό συμβάν του 2017 υπό το φως των νέων δεδομένων μετά την τραγωδία στα Τέμπη.\n",
            " </p>\n",
            " <p>\n",
            "  Τότε το τρένο είχε εκτροχιαστεί, υπήρξαν τέσσερις νεκροί ανάμεσα τους και ο ένας μηχανοδηγός του τρένου, ενώ ο άλλος που επέζησε παραπέμφθηκε σε δίκη ως υπεύθυνος του δυστυχήματος αλλά αθωώθηκε.\n",
            " </p>\n",
            " <p>\n",
            "  Σύμφωνα με πληροφορίες, ο Εισαγγελέας του Αρείου Πάγου ζήτησε τώρα τη δικογραφία για το δυστύχημα του 2017, καθώς δημοσιεύματα αναφέρουν, ότι και τότε και σήμερα είχαν γίνει παρόμοιες καταγγελίες για ευθύνες σχετικά με την κατάσταση εκσυγχρονισμού του σιδηροδρομικού δικτύου, οι οποίες τότε – το 2017- δεν διερευνήθηκαν, και ίσως κριθεί σκόπιμο κάτι τέτοιο να γίνει τώρα.\n",
            " </p>\n",
            " <h3>\n",
            "  Τρεις εισαγγελείς ανέλαβαν τις έρευνες για τα έργα\n",
            " </h3>\n",
            " <p>\n",
            "  Παράλληλα, ο οικονομικός εισαγγελέας Χρήστος Μπαρδάκης μετά τη χθεσινή παραγγελία του Εισαγγελέα του Αρείου Πάγου Ισίδωρου Ντογιάκου για κατά απόλυτη προτεραιότητα διερεύνηση όλων των συμβάσεων που καθυστέρησαν η δεν υλοποιήθηκαν, όπως έπρεπε για τον εκσυγχρονισμό του σιδηροδρομικού δικτύου, ανέθεσε τις έρευνες για τα έργα σε τρεις εισαγγελείς. Τον εισαγγελέα εφετών Μιχάλη Μιχαλόπουλο που θα είναι και ο επικεφαλής του εισαγγελικού κλιμακίου και τους εισαγγελείς Δημήτρη Αποστολά και Αθανασίου Βλάχου, η οποία στο παρελθόν είχε χειριστεί τις έρευνες για τη σύμβαση 717 του 2014, σύμβαση για τον εκσυγχρονισμό του σιδηροδρομικού δικτύου, η οποία δεν υλοποιήθηκε και αφού πέρασε σαράντα κύματα, τελικά υπήρξε σύμβαση που την συμπλήρωσε (συμπληρωματική), ενώ το σύνολο του έργου μέχρι σήμερα δεν έχει ολοκληρωθεί πλήρως.\n",
            " </p>\n",
            " <div class=\"nx-banner-wrapper\">\n",
            "  <div class=\"nxAds gAdCentered\" id=\"nx_kathimerini_gr_Category_SB_2_mb_new\" style=\"\">\n",
            "   <div class=\"nx-ad-unit\" data-ad-slot=\"/68452758/www.kathimerini.gr/kathimerini.gr_Category_SB_2\" data-id=\"nx_ad_Category_SB_2_mb_new\" data-map-var=\"[[[1024,0],[]],[[768,0],[[300,250]]],[[320,0],[[300,600],[300,250]]],[[0,0],[]]]\" data-platform=\"mobile\" data-sizes=\"[[300,250],[300,600]]\">\n",
            "   </div>\n",
            "  </div>\n",
            " </div>\n",
            " <p>\n",
            "  Η έρευνα της εισαγγελέως Αθανασίας Βλάχου για τη σύμβαση 717 οδήγησε σε αρχειοθέτηση των καταγγελιών που προκάλεσαν την εισαγγελική παρέμβαση και αφορούσαν σε ζημιά του δημοσίου ύψους 3 εκατομμυρίων ευρώ από τις καθυστερήσεις των έργων. Ομως από τις έρευνες που έκανε και η Αρχή Διαφάνειας, το πόρισμα της οποίας διαβιβάστηκε στην Οικονομική Εισαγγελία, σύμφωνα με πληροφορίες, δεν προέκυψε ότι το δημόσιο υπέστη ζημιά και έτσι η υπόθεση μπήκε στο αρχείο το 2021.\n",
            " </p>\n",
            " <p>\n",
            "  Ανασύρθηκε όμως στη συνέχεια το 2022, καθώς προέκυψαν νεότερα στοιχεία τα οποία έθεσε υπόψη της Οικονομικής Εισαγγελίας η Ευρωπαϊκή Εισαγγελία, η οποία και ως σήμερα έχει αναλάβει έρευνα σε σκέλος της υπόθεσης αυτής σχετικά με την διαχείριση κοινοτικών κονδυλίων.\n",
            " </p>\n",
            " <p>\n",
            "  Πέρα όμως από την έρευνα της Ευρωπαϊκής Εισαγγελίας, σύμφωνα με πληροφορίες η Οικονομική Εισαγγελία, διερευνώντας για αδικήματα απιστίας σε βάρος του δημοσίου (δηλαδή την πρόκληση οικονομικής ζημιάς στο δημόσιο) από τη μη υλοποίηση των συμβάσεων για τα τρένα, εξετάζει ήδη:\n",
            " </p>\n",
            " <div class=\"nx-banner-wrapper\">\n",
            "  <div class=\"nxAds gAdCentered\" id=\"nx_kathimerini_gr_Category_SB_3_mb_new\" style=\"\">\n",
            "   <div class=\"nx-ad-unit\" data-ad-slot=\"/68452758/www.kathimerini.gr/kathimerini.gr_Category_SB_1\" data-id=\"nx_ad_Category_SB_3_mb_new\" data-map-var=\"[[[1024,0],[]],[[768,0],[[300,250]]],[[320,0],[[300,600],[300,250]]],[[0,0],[]]]\" data-platform=\"mobile\" data-sizes=\"[[300,250],[300,600]]\">\n",
            "   </div>\n",
            "  </div>\n",
            " </div>\n",
            " <ul>\n",
            "  <li>\n",
            "   Σύμβαση του 2005 για εκσυγχρονισμό του σιδηροδρομικού δικτύου στο κομμάτι Αθήνα, Αχαρνές, Λιόσια, Κόρινθος.\n",
            "  </li>\n",
            "  <li>\n",
            "   Σύμβαση του 2013 για το κομμάτι Αχαρνές -Τιθορέα.\n",
            "  </li>\n",
            "  <li>\n",
            "   Σύμβαση του 2013 επίσης για το κομμάτι Τιθορέα- Δομοκός.\n",
            "  </li>\n",
            "  <li>\n",
            "   Σύμβαση του 2015 για το κομμάτι Πειραιάς- Αθήνα.\n",
            "  </li>\n",
            " </ul>\n",
            " <p>\n",
            "  Οι έρευνες της Οικονομικής Εισαγγελίας, σύμφωνα με πληροφορίες αφορούν μόνον στη διαπίστωση αν υπήρξε αδίκημα απιστίας σε βάρος του δημοσίου και όχι άλλα αδικήματα.\n",
            " </p>\n",
            " <p>\n",
            "  <strong>\n",
            "   ⇒\n",
            "   <a href=\"https://www.kathimerini.gr/epikairothta/\">\n",
            "    Ειδήσεις σήμερα\n",
            "   </a>\n",
            "  </strong>\n",
            " </p>\n",
            " <p>\n",
            "  <strong>\n",
            "   Ακολουθήστε το\n",
            "   <a href=\"https://news.google.com/publications/CAAiEFmZCjqR74X4wP4TYLU6ZOEqFAgKIhBZmQo6ke-F-MD-E2C1OmTh?hl=en-US&amp;gl=US&amp;ceid=US:en\" rel=\"noopener\" target=\"_blank\">\n",
            "    kathimerini.gr στο Google News\n",
            "   </a>\n",
            "   και μάθετε πρώτοι όλες τις ειδήσεις\n",
            "  </strong>\n",
            " </p>\n",
            " <p>\n",
            "  <strong>\n",
            "   Δείτε όλες τις τελευταίες\n",
            "   <a href=\"https://www.kathimerini.gr/epikairothta/\">\n",
            "    Ειδήσεις\n",
            "   </a>\n",
            "   από την Ελλάδα και τον Κόσμο, στο\n",
            "   <a href=\"https://www.kathimerini.gr/\">\n",
            "    kathimerini.gr\n",
            "   </a>\n",
            "  </strong>\n",
            " </p>\n",
            " <p>\n",
            " </p>\n",
            " <div class=\"nx-single-tags-wrapper mt-6\">\n",
            "  <div class=\"tags-wrapper\">\n",
            "   <div>\n",
            "    <span class=\"tags-links\">\n",
            "     <a href=\"https://www.kathimerini.gr/tag/dikaiosyni/\" rel=\"tag\">\n",
            "      Δικαιοσύνη\n",
            "     </a>\n",
            "     <a href=\"https://www.kathimerini.gr/tag/larisa/\" rel=\"tag\">\n",
            "      Λάρισα\n",
            "     </a>\n",
            "     <a href=\"https://www.kathimerini.gr/tag/sygkroysi-amaxostoichion/\" rel=\"tag\">\n",
            "      Σύγκρουση αμαξοστοιχιών\n",
            "     </a>\n",
            "     <a href=\"https://www.kathimerini.gr/tag/sygkroysi-trenon/\" rel=\"tag\">\n",
            "      Σύγκρουση τρένων\n",
            "     </a>\n",
            "     <a href=\"https://www.kathimerini.gr/tag/tempi/\" rel=\"tag\">\n",
            "      Τέμπη\n",
            "     </a>\n",
            "    </span>\n",
            "   </div>\n",
            "  </div>\n",
            " </div>\n",
            "</div>\n",
            "\n"
          ]
        }
      ]
    },
    {
      "cell_type": "code",
      "source": [
        "section = doc.find('span', {'class': 'nx-single-category-title color-primary'}).text\n",
        "section"
      ],
      "metadata": {
        "colab": {
          "base_uri": "https://localhost:8080/",
          "height": 35
        },
        "id": "MA_XjWD1ZLXv",
        "outputId": "9c771db3-06d2-45e8-dc49-ff500b246718"
      },
      "execution_count": 74,
      "outputs": [
        {
          "output_type": "execute_result",
          "data": {
            "text/plain": [
              "'Κοινωνία'"
            ],
            "application/vnd.google.colaboratory.intrinsic+json": {
              "type": "string"
            }
          },
          "metadata": {},
          "execution_count": 74
        }
      ]
    },
    {
      "cell_type": "code",
      "source": [
        "title = doc.find('h1',{'class':'entry-title mb-5 mt-2'}).text\n",
        "title"
      ],
      "metadata": {
        "colab": {
          "base_uri": "https://localhost:8080/",
          "height": 35
        },
        "id": "CDSphvR0Zs-e",
        "outputId": "6b37209f-e740-4767-8169-4e7fa25cebc0"
      },
      "execution_count": 75,
      "outputs": [
        {
          "output_type": "execute_result",
          "data": {
            "text/plain": [
              "'Τέμπη: Σε πλήρη εξέλιξη οι έρευνες για την τραγωδία'"
            ],
            "application/vnd.google.colaboratory.intrinsic+json": {
              "type": "string"
            }
          },
          "metadata": {},
          "execution_count": 75
        }
      ]
    },
    {
      "cell_type": "code",
      "source": [
        "date = article.find('time')['datetime']\n",
        "date"
      ],
      "metadata": {
        "colab": {
          "base_uri": "https://localhost:8080/",
          "height": 35
        },
        "id": "kF1r7AYPaTTM",
        "outputId": "fa93ca4d-f282-4e7c-b684-35ff70619610"
      },
      "execution_count": 91,
      "outputs": [
        {
          "output_type": "execute_result",
          "data": {
            "text/plain": [
              "'2023-03-01T08:36:08+02:00'"
            ],
            "application/vnd.google.colaboratory.intrinsic+json": {
              "type": "string"
            }
          },
          "metadata": {},
          "execution_count": 91
        }
      ]
    },
    {
      "cell_type": "code",
      "source": [
        "author = article.find('a', {'class', \"url fn n\"}).text\n",
        "author"
      ],
      "metadata": {
        "colab": {
          "base_uri": "https://localhost:8080/",
          "height": 35
        },
        "id": "W8j5afRnbCLA",
        "outputId": "f1fe5a8a-f5f1-45f2-ee4c-4fa0b3282b72"
      },
      "execution_count": 77,
      "outputs": [
        {
          "output_type": "execute_result",
          "data": {
            "text/plain": [
              "'\\nΙωάννα Μάνδρου'"
            ],
            "application/vnd.google.colaboratory.intrinsic+json": {
              "type": "string"
            }
          },
          "metadata": {},
          "execution_count": 77
        }
      ]
    },
    {
      "cell_type": "code",
      "source": [
        "paragraphs = article.find_all('p')\n",
        "paragraphs"
      ],
      "metadata": {
        "colab": {
          "base_uri": "https://localhost:8080/"
        },
        "id": "BWnIl3lBbefW",
        "outputId": "f5726272-2ef1-4edc-d71e-a71d35808861"
      },
      "execution_count": 78,
      "outputs": [
        {
          "output_type": "execute_result",
          "data": {
            "text/plain": [
              "[<p>Σε πλήρη εξέλιξη βρίσκονται οι δικαστικές έρευνες στη <a href=\"https://www.kathimerini.gr/tag/larisa/\" rel=\"noopener\" target=\"_blank\"><strong>Λάρισα </strong></a>για την αναζήτηση των υπευθύνων για το <a href=\"https://www.kathimerini.gr/tag/sygkroysi-amaxostoichion/\" rel=\"noopener\" target=\"_blank\"><strong>τραγικό δυστύχημα</strong></a> ενόψει της σύγκλισης της Ολομέλειας Εφετών που ζητήθηκε χθες από τον προϊστάμενο της Εισαγγελίας Εφετών Σταμάτη Δασκαλόπουλο.</p>,\n",
              " <p>Η ανακρίτρια της υπόθεσης ήδη εξετάζει ως μάρτυρες σταθμάρχες που υπηρετούν στη Λάρισα και άλλους εργαζόμενους του ΟΣΕ, ενώ αναμένονται με εξαιρετικό ενδιαφέρον οι πραγματογνωμοσύνες που ήδη έχουν διαταχθεί από εισαγγελικής πλευράς και διενεργούνται ήδη για τα αίτια του πολύνεκρου δυστυχήματος.</p>,\n",
              " <p>Παράλληλα ο Εισαγγελέας του Αρείου Πάγου Ισίδωρος Ντογιάκος με έγγραφό του ζήτησε από την Εισαγγελία της Θεσσαλονίκης να του σταλεί η δικογραφία που είχε σχηματιστεί για τον εκτροχιασμό τρένου στο Άδενδρο Θεσσαλονίκης το 2017.</p>,\n",
              " <p>Ο ανώτατος εισαγγελικός λειτουργός, σύμφωνα με πληροφορίες, θα μελετήσει τη δικογραφία προκειμένου, αν χρειαστεί να ανοίξει νέα έρευνα για το τραγικό συμβάν του 2017 υπό το φως των νέων δεδομένων μετά την τραγωδία στα Τέμπη.</p>,\n",
              " <p>Τότε το τρένο είχε εκτροχιαστεί, υπήρξαν τέσσερις νεκροί ανάμεσα τους και ο ένας μηχανοδηγός του τρένου, ενώ ο άλλος που επέζησε παραπέμφθηκε σε δίκη ως υπεύθυνος του δυστυχήματος αλλά αθωώθηκε.</p>,\n",
              " <p>Σύμφωνα με πληροφορίες, ο Εισαγγελέας του Αρείου Πάγου ζήτησε τώρα τη δικογραφία για το δυστύχημα του 2017, καθώς δημοσιεύματα αναφέρουν, ότι και τότε και σήμερα είχαν γίνει παρόμοιες καταγγελίες για ευθύνες σχετικά με την κατάσταση εκσυγχρονισμού του σιδηροδρομικού δικτύου, οι οποίες τότε – το 2017- δεν διερευνήθηκαν, και ίσως κριθεί σκόπιμο κάτι τέτοιο να γίνει τώρα.</p>,\n",
              " <p>Παράλληλα, ο οικονομικός εισαγγελέας Χρήστος Μπαρδάκης μετά τη χθεσινή παραγγελία του Εισαγγελέα του Αρείου Πάγου Ισίδωρου Ντογιάκου για κατά απόλυτη προτεραιότητα διερεύνηση όλων των συμβάσεων που καθυστέρησαν η δεν υλοποιήθηκαν, όπως έπρεπε για τον εκσυγχρονισμό του σιδηροδρομικού δικτύου, ανέθεσε τις έρευνες για τα έργα σε τρεις εισαγγελείς. Τον εισαγγελέα εφετών Μιχάλη Μιχαλόπουλο που θα είναι και ο επικεφαλής του εισαγγελικού κλιμακίου και τους εισαγγελείς Δημήτρη Αποστολά και Αθανασίου Βλάχου, η οποία στο παρελθόν είχε χειριστεί τις έρευνες για τη σύμβαση 717 του 2014, σύμβαση για τον εκσυγχρονισμό του σιδηροδρομικού δικτύου, η οποία δεν υλοποιήθηκε και αφού πέρασε σαράντα κύματα, τελικά υπήρξε σύμβαση που την συμπλήρωσε (συμπληρωματική), ενώ το σύνολο του έργου μέχρι σήμερα δεν έχει ολοκληρωθεί πλήρως.</p>,\n",
              " <p>Η έρευνα της εισαγγελέως Αθανασίας Βλάχου για τη σύμβαση 717 οδήγησε σε αρχειοθέτηση των καταγγελιών που προκάλεσαν την εισαγγελική παρέμβαση και αφορούσαν σε ζημιά του δημοσίου ύψους 3 εκατομμυρίων ευρώ από τις καθυστερήσεις των έργων. Ομως από τις έρευνες που έκανε και η Αρχή Διαφάνειας, το πόρισμα της οποίας διαβιβάστηκε στην Οικονομική Εισαγγελία, σύμφωνα με πληροφορίες, δεν προέκυψε ότι το δημόσιο υπέστη ζημιά και έτσι η υπόθεση μπήκε στο αρχείο το 2021.</p>,\n",
              " <p>Ανασύρθηκε όμως στη συνέχεια το 2022, καθώς προέκυψαν νεότερα στοιχεία τα οποία έθεσε υπόψη της Οικονομικής Εισαγγελίας η Ευρωπαϊκή Εισαγγελία, η οποία και ως σήμερα έχει αναλάβει έρευνα σε σκέλος της υπόθεσης αυτής σχετικά με την διαχείριση κοινοτικών κονδυλίων.</p>,\n",
              " <p>Πέρα όμως από την έρευνα της Ευρωπαϊκής Εισαγγελίας, σύμφωνα με πληροφορίες η Οικονομική Εισαγγελία, διερευνώντας για αδικήματα απιστίας σε βάρος του δημοσίου (δηλαδή την πρόκληση οικονομικής ζημιάς στο δημόσιο) από τη μη υλοποίηση των συμβάσεων για τα τρένα, εξετάζει ήδη:</p>,\n",
              " <p>Οι έρευνες της Οικονομικής Εισαγγελίας, σύμφωνα με πληροφορίες αφορούν μόνον στη διαπίστωση αν υπήρξε αδίκημα απιστίας σε βάρος του δημοσίου και όχι άλλα αδικήματα.</p>,\n",
              " <p><strong>⇒ <a href=\"https://www.kathimerini.gr/epikairothta/\">Ειδήσεις σήμερα</a></strong></p>,\n",
              " <p><strong>Ακολουθήστε το <a href=\"https://news.google.com/publications/CAAiEFmZCjqR74X4wP4TYLU6ZOEqFAgKIhBZmQo6ke-F-MD-E2C1OmTh?hl=en-US&amp;gl=US&amp;ceid=US:en\" rel=\"noopener\" target=\"_blank\">kathimerini.gr στο Google News</a> και μάθετε πρώτοι όλες τις ειδήσεις</strong></p>,\n",
              " <p><strong>Δείτε όλες τις τελευταίες <a href=\"https://www.kathimerini.gr/epikairothta/\">Ειδήσεις </a>από την Ελλάδα και τον Κόσμο, στο <a href=\"https://www.kathimerini.gr/\">kathimerini.gr</a> </strong></p>,\n",
              " <p></p>]"
            ]
          },
          "metadata": {},
          "execution_count": 78
        }
      ]
    },
    {
      "cell_type": "code",
      "source": [
        "p_texts_list = []\n",
        "paragraphs = article.find_all('p')\n",
        "for p in paragraphs:\n",
        "  p_texts_list.append(p.text)\n",
        "full_text = ' '.join(p_texts_list)\n",
        "full_text = \"\".join(full_text.splitlines())\n",
        "full_text"
      ],
      "metadata": {
        "colab": {
          "base_uri": "https://localhost:8080/",
          "height": 139
        },
        "id": "L46Udqqqb89B",
        "outputId": "18c2fab6-66d7-4d76-c6ea-f31fb1cda3e5"
      },
      "execution_count": 79,
      "outputs": [
        {
          "output_type": "execute_result",
          "data": {
            "text/plain": [
              "'Σε πλήρη εξέλιξη βρίσκονται οι δικαστικές έρευνες στη Λάρισα για την αναζήτηση των υπευθύνων για το τραγικό δυστύχημα ενόψει της σύγκλισης της Ολομέλειας Εφετών που ζητήθηκε χθες από τον προϊστάμενο της Εισαγγελίας Εφετών Σταμάτη Δασκαλόπουλο. Η ανακρίτρια της υπόθεσης ήδη εξετάζει ως μάρτυρες σταθμάρχες που υπηρετούν στη Λάρισα και άλλους εργαζόμενους του ΟΣΕ, ενώ αναμένονται με εξαιρετικό ενδιαφέρον οι πραγματογνωμοσύνες που ήδη έχουν διαταχθεί από εισαγγελικής πλευράς και διενεργούνται ήδη για τα αίτια του πολύνεκρου δυστυχήματος. Παράλληλα ο Εισαγγελέας του Αρείου Πάγου Ισίδωρος Ντογιάκος με έγγραφό του ζήτησε από την Εισαγγελία της Θεσσαλονίκης να του σταλεί η δικογραφία που είχε σχηματιστεί για τον εκτροχιασμό τρένου στο Άδενδρο Θεσσαλονίκης το 2017. Ο ανώτατος εισαγγελικός λειτουργός, σύμφωνα με πληροφορίες, θα μελετήσει τη δικογραφία προκειμένου, αν χρειαστεί να ανοίξει νέα έρευνα για το τραγικό συμβάν του 2017 υπό\\xa0το φως των νέων δεδομένων μετά την τραγωδία στα Τέμπη. Τότε το τρένο είχε εκτροχιαστεί, υπήρξαν τέσσερις νεκροί ανάμεσα τους και ο ένας μηχανοδηγός του τρένου, ενώ ο άλλος που επέζησε παραπέμφθηκε σε δίκη ως υπεύθυνος του δυστυχήματος αλλά αθωώθηκε. Σύμφωνα με πληροφορίες, ο Εισαγγελέας του Αρείου Πάγου ζήτησε τώρα τη δικογραφία για το δυστύχημα του 2017, καθώς δημοσιεύματα αναφέρουν, ότι και τότε και σήμερα είχαν γίνει παρόμοιες καταγγελίες για ευθύνες σχετικά με την κατάσταση εκσυγχρονισμού του σιδηροδρομικού δικτύου, οι οποίες τότε – το 2017- δεν διερευνήθηκαν, και ίσως κριθεί σκόπιμο κάτι τέτοιο να γίνει τώρα. Παράλληλα, ο οικονομικός εισαγγελέας Χρήστος Μπαρδάκης μετά τη χθεσινή παραγγελία του Εισαγγελέα του Αρείου Πάγου Ισίδωρου Ντογιάκου για κατά απόλυτη προτεραιότητα διερεύνηση όλων των συμβάσεων που καθυστέρησαν η δεν υλοποιήθηκαν, όπως έπρεπε για τον εκσυγχρονισμό του σιδηροδρομικού δικτύου, ανέθεσε τις έρευνες για τα έργα σε τρεις εισαγγελείς. Τον εισαγγελέα εφετών Μιχάλη Μιχαλόπουλο που θα είναι και ο επικεφαλής του εισαγγελικού κλιμακίου και τους εισαγγελείς Δημήτρη Αποστολά και Αθανασίου Βλάχου, η οποία στο παρελθόν είχε χειριστεί τις έρευνες για τη σύμβαση 717 του 2014, σύμβαση για τον εκσυγχρονισμό του σιδηροδρομικού δικτύου, η οποία δεν υλοποιήθηκε και αφού πέρασε σαράντα κύματα, τελικά υπήρξε σύμβαση που την συμπλήρωσε (συμπληρωματική), ενώ το σύνολο του έργου μέχρι σήμερα δεν έχει ολοκληρωθεί πλήρως. Η έρευνα της εισαγγελέως Αθανασίας Βλάχου για τη σύμβαση 717 οδήγησε σε αρχειοθέτηση των καταγγελιών που προκάλεσαν την εισαγγελική παρέμβαση και αφορούσαν σε ζημιά του δημοσίου ύψους 3 εκατομμυρίων ευρώ από τις καθυστερήσεις των έργων. Ομως από τις έρευνες που έκανε και η Αρχή Διαφάνειας, το πόρισμα της οποίας διαβιβάστηκε στην Οικονομική Εισαγγελία, σύμφωνα με πληροφορίες, δεν προέκυψε ότι το δημόσιο υπέστη ζημιά και έτσι η υπόθεση μπήκε στο αρχείο το 2021. Ανασύρθηκε όμως στη συνέχεια το 2022, καθώς προέκυψαν νεότερα στοιχεία τα οποία έθεσε υπόψη της Οικονομικής Εισαγγελίας η Ευρωπαϊκή Εισαγγελία, η οποία και ως σήμερα έχει αναλάβει έρευνα σε σκέλος της υπόθεσης αυτής σχετικά με την διαχείριση κοινοτικών κονδυλίων. Πέρα όμως από την έρευνα της Ευρωπαϊκής Εισαγγελίας, σύμφωνα με πληροφορίες η Οικονομική Εισαγγελία, διερευνώντας για αδικήματα απιστίας σε βάρος του δημοσίου (δηλαδή την πρόκληση οικονομικής ζημιάς στο δημόσιο) από τη μη υλοποίηση των συμβάσεων για τα τρένα, εξετάζει ήδη: Οι έρευνες της Οικονομικής Εισαγγελίας, σύμφωνα με πληροφορίες αφορούν μόνον στη διαπίστωση αν υπήρξε αδίκημα απιστίας σε βάρος του δημοσίου και όχι άλλα αδικήματα. ⇒\\xa0Ειδήσεις σήμερα Ακολουθήστε το\\xa0kathimerini.gr\\xa0στο Google News\\xa0και μάθετε πρώτοι όλες τις ειδήσεις Δείτε όλες τις τελευταίες\\xa0Ειδήσεις\\xa0από την Ελλάδα και τον Κόσμο, στο\\xa0kathimerini.gr\\xa0 '"
            ],
            "application/vnd.google.colaboratory.intrinsic+json": {
              "type": "string"
            }
          },
          "metadata": {},
          "execution_count": 79
        }
      ]
    },
    {
      "cell_type": "code",
      "source": [
        "kathimerini_teasers_df = pd.read_csv('/content/drive/MyDrive/Colab Notebooks/kathimerini_teasers_df.csv')\n",
        "kathimerini_teasers_df.head()"
      ],
      "metadata": {
        "colab": {
          "base_uri": "https://localhost:8080/",
          "height": 206
        },
        "id": "y7L_07dkcTjm",
        "outputId": "022f88e1-8d43-484a-e68b-a9844d40a6c8"
      },
      "execution_count": 81,
      "outputs": [
        {
          "output_type": "execute_result",
          "data": {
            "text/plain": [
              "                                                 url\n",
              "0  https://www.kathimerini.gr/society/562312186/t...\n",
              "1  https://www.kathimerini.gr/society/562311997/t...\n",
              "2  https://www.kathimerini.gr/society/562311928/v...\n",
              "3  https://www.kathimerini.gr/society/562311403/t...\n",
              "4  https://www.kathimerini.gr/society/562311394/t..."
            ],
            "text/html": [
              "\n",
              "  <div id=\"df-9e1d8ca6-21bd-403e-bd01-6fb3025637a0\">\n",
              "    <div class=\"colab-df-container\">\n",
              "      <div>\n",
              "<style scoped>\n",
              "    .dataframe tbody tr th:only-of-type {\n",
              "        vertical-align: middle;\n",
              "    }\n",
              "\n",
              "    .dataframe tbody tr th {\n",
              "        vertical-align: top;\n",
              "    }\n",
              "\n",
              "    .dataframe thead th {\n",
              "        text-align: right;\n",
              "    }\n",
              "</style>\n",
              "<table border=\"1\" class=\"dataframe\">\n",
              "  <thead>\n",
              "    <tr style=\"text-align: right;\">\n",
              "      <th></th>\n",
              "      <th>url</th>\n",
              "    </tr>\n",
              "  </thead>\n",
              "  <tbody>\n",
              "    <tr>\n",
              "      <th>0</th>\n",
              "      <td>https://www.kathimerini.gr/society/562312186/t...</td>\n",
              "    </tr>\n",
              "    <tr>\n",
              "      <th>1</th>\n",
              "      <td>https://www.kathimerini.gr/society/562311997/t...</td>\n",
              "    </tr>\n",
              "    <tr>\n",
              "      <th>2</th>\n",
              "      <td>https://www.kathimerini.gr/society/562311928/v...</td>\n",
              "    </tr>\n",
              "    <tr>\n",
              "      <th>3</th>\n",
              "      <td>https://www.kathimerini.gr/society/562311403/t...</td>\n",
              "    </tr>\n",
              "    <tr>\n",
              "      <th>4</th>\n",
              "      <td>https://www.kathimerini.gr/society/562311394/t...</td>\n",
              "    </tr>\n",
              "  </tbody>\n",
              "</table>\n",
              "</div>\n",
              "      <button class=\"colab-df-convert\" onclick=\"convertToInteractive('df-9e1d8ca6-21bd-403e-bd01-6fb3025637a0')\"\n",
              "              title=\"Convert this dataframe to an interactive table.\"\n",
              "              style=\"display:none;\">\n",
              "        \n",
              "  <svg xmlns=\"http://www.w3.org/2000/svg\" height=\"24px\"viewBox=\"0 0 24 24\"\n",
              "       width=\"24px\">\n",
              "    <path d=\"M0 0h24v24H0V0z\" fill=\"none\"/>\n",
              "    <path d=\"M18.56 5.44l.94 2.06.94-2.06 2.06-.94-2.06-.94-.94-2.06-.94 2.06-2.06.94zm-11 1L8.5 8.5l.94-2.06 2.06-.94-2.06-.94L8.5 2.5l-.94 2.06-2.06.94zm10 10l.94 2.06.94-2.06 2.06-.94-2.06-.94-.94-2.06-.94 2.06-2.06.94z\"/><path d=\"M17.41 7.96l-1.37-1.37c-.4-.4-.92-.59-1.43-.59-.52 0-1.04.2-1.43.59L10.3 9.45l-7.72 7.72c-.78.78-.78 2.05 0 2.83L4 21.41c.39.39.9.59 1.41.59.51 0 1.02-.2 1.41-.59l7.78-7.78 2.81-2.81c.8-.78.8-2.07 0-2.86zM5.41 20L4 18.59l7.72-7.72 1.47 1.35L5.41 20z\"/>\n",
              "  </svg>\n",
              "      </button>\n",
              "      \n",
              "  <style>\n",
              "    .colab-df-container {\n",
              "      display:flex;\n",
              "      flex-wrap:wrap;\n",
              "      gap: 12px;\n",
              "    }\n",
              "\n",
              "    .colab-df-convert {\n",
              "      background-color: #E8F0FE;\n",
              "      border: none;\n",
              "      border-radius: 50%;\n",
              "      cursor: pointer;\n",
              "      display: none;\n",
              "      fill: #1967D2;\n",
              "      height: 32px;\n",
              "      padding: 0 0 0 0;\n",
              "      width: 32px;\n",
              "    }\n",
              "\n",
              "    .colab-df-convert:hover {\n",
              "      background-color: #E2EBFA;\n",
              "      box-shadow: 0px 1px 2px rgba(60, 64, 67, 0.3), 0px 1px 3px 1px rgba(60, 64, 67, 0.15);\n",
              "      fill: #174EA6;\n",
              "    }\n",
              "\n",
              "    [theme=dark] .colab-df-convert {\n",
              "      background-color: #3B4455;\n",
              "      fill: #D2E3FC;\n",
              "    }\n",
              "\n",
              "    [theme=dark] .colab-df-convert:hover {\n",
              "      background-color: #434B5C;\n",
              "      box-shadow: 0px 1px 3px 1px rgba(0, 0, 0, 0.15);\n",
              "      filter: drop-shadow(0px 1px 2px rgba(0, 0, 0, 0.3));\n",
              "      fill: #FFFFFF;\n",
              "    }\n",
              "  </style>\n",
              "\n",
              "      <script>\n",
              "        const buttonEl =\n",
              "          document.querySelector('#df-9e1d8ca6-21bd-403e-bd01-6fb3025637a0 button.colab-df-convert');\n",
              "        buttonEl.style.display =\n",
              "          google.colab.kernel.accessAllowed ? 'block' : 'none';\n",
              "\n",
              "        async function convertToInteractive(key) {\n",
              "          const element = document.querySelector('#df-9e1d8ca6-21bd-403e-bd01-6fb3025637a0');\n",
              "          const dataTable =\n",
              "            await google.colab.kernel.invokeFunction('convertToInteractive',\n",
              "                                                     [key], {});\n",
              "          if (!dataTable) return;\n",
              "\n",
              "          const docLinkHtml = 'Like what you see? Visit the ' +\n",
              "            '<a target=\"_blank\" href=https://colab.research.google.com/notebooks/data_table.ipynb>data table notebook</a>'\n",
              "            + ' to learn more about interactive tables.';\n",
              "          element.innerHTML = '';\n",
              "          dataTable['output_type'] = 'display_data';\n",
              "          await google.colab.output.renderOutput(dataTable, element);\n",
              "          const docLink = document.createElement('div');\n",
              "          docLink.innerHTML = docLinkHtml;\n",
              "          element.appendChild(docLink);\n",
              "        }\n",
              "      </script>\n",
              "    </div>\n",
              "  </div>\n",
              "  "
            ]
          },
          "metadata": {},
          "execution_count": 81
        }
      ]
    },
    {
      "cell_type": "code",
      "source": [
        "full_articles_list = []\n",
        "\n",
        "for article_url in kathimerini_teasers_df['url']:\n",
        "  response = requests.get(article_url)\n",
        "  doc = BeautifulSoup(response.text, 'html.parser')\n",
        "\n",
        "\n",
        "  article = doc.find('div', {'class': 'column p-0 entry-content content'})\n",
        "  full_article_dict = {}\n",
        "\n",
        "  # website\n",
        "  full_article_dict['site'] = \"kathimerini.gr\"\n",
        "\n",
        "  # url\n",
        "  full_article_dict['url'] = article_url\n",
        "\n",
        "  #section\n",
        "  try:\n",
        "    section = doc.find('span', {'class': 'nx-single-category-title color-primary'}).text\n",
        "    full_article_dict['section'] = section\n",
        "  except:\n",
        "    full_article_dict['section'] = ''\n",
        "    pass\n",
        "\n",
        "  #title\n",
        "  try:\n",
        "    title = title = doc.find('h1',{'class':'entry-title mb-5 mt-2'}).text\n",
        "    full_article_dict['title'] = title\n",
        "  except:\n",
        "    full_article_dict['title'] = ''\n",
        "    pass\n",
        "\n",
        "  # date\n",
        "  try:\n",
        "    date = date = article.find('time')['datetime']\n",
        "    full_article_dict['date'] = date\n",
        "  except:\n",
        "    full_article_dict['date'] = ''\n",
        "    pass\n",
        "\n",
        "  # author\n",
        "  try:\n",
        "    author = article.find('a', {'class', \"url fn n\"}).text\n",
        "    full_article_dict['author'] = author\n",
        "  except:\n",
        "    full_article_dict['author'] = ''\n",
        "    pass\n",
        "\n",
        "  # full_text\n",
        "  try:\n",
        "    p_texts_list = []\n",
        "    paragraphs = article.find_all('p')\n",
        "    for p in paragraphs:\n",
        "      p_texts_list.append(p.text)\n",
        "    full_text = ' '.join(p_texts_list)\n",
        "    full_text = \"\".join(full_text.splitlines())\n",
        "    full_article_dict['full_text'] = full_text\n",
        "  except:\n",
        "    full_article_dict['full_text'] = ''\n",
        "    pass\n",
        "\n",
        "  full_articles_list.append(full_article_dict)\n",
        "  time.sleep(1)"
      ],
      "metadata": {
        "id": "yx_mk82sHeT4"
      },
      "execution_count": 92,
      "outputs": []
    },
    {
      "cell_type": "code",
      "source": [
        "kathimerini_full_articles_df = pd.DataFrame(full_articles_list)\n",
        "kathimerini_full_articles_df"
      ],
      "metadata": {
        "colab": {
          "base_uri": "https://localhost:8080/",
          "height": 814
        },
        "id": "Ud7ofI6Fd8sP",
        "outputId": "f71e89b8-e4a7-43f7-e2ee-b1ee0bde5aba"
      },
      "execution_count": 113,
      "outputs": [
        {
          "output_type": "execute_result",
          "data": {
            "text/plain": [
              "               site                                                url  \\\n",
              "0    kathimerini.gr  https://www.kathimerini.gr/society/562312186/t...   \n",
              "1    kathimerini.gr  https://www.kathimerini.gr/society/562311997/t...   \n",
              "2    kathimerini.gr  https://www.kathimerini.gr/society/562311928/v...   \n",
              "3    kathimerini.gr  https://www.kathimerini.gr/society/562311403/t...   \n",
              "4    kathimerini.gr  https://www.kathimerini.gr/society/562311394/t...   \n",
              "..              ...                                                ...   \n",
              "201  kathimerini.gr  https://www.kathimerini.gr/society/562300477/s...   \n",
              "202  kathimerini.gr  https://www.kathimerini.gr/politics/foreign-po...   \n",
              "203  kathimerini.gr  https://www.kathimerini.gr/society/562300459/s...   \n",
              "204  kathimerini.gr  https://www.kathimerini.gr/society/562300423/s...   \n",
              "205  kathimerini.gr  https://www.kathimerini.gr/society/562300363/s...   \n",
              "\n",
              "                section                                              title  \\\n",
              "0              Κοινωνία  Τραγωδία στα Τέμπη: Συγγενείς εννέα νεκρών ζητ...   \n",
              "1              Κοινωνία  Τραγωδία στα Τέμπη: Στην Αθήνα σήμερα ο επικεφ...   \n",
              "2              Κοινωνία  Βόλος: Σοβαρά επεισόδια μετά από πορεία για το...   \n",
              "3              Κοινωνία  Τραγωδία στα Τέμπη: Το 2021 έγινε έλεγχος για ...   \n",
              "4              Κοινωνία  Τραγωδία στα Τέμπη: Η βλάβη, η μονοδρόμηση και...   \n",
              "..                  ...                                                ...   \n",
              "201            Κοινωνία  Σύγκρουση τρένων στα Τέμπη: «Γίνονται όλα χειρ...   \n",
              "202  Εξωτερική Πολιτική  Σύγκρουση τρένων στα Τέμπη: Συλλυπητήρια Τσαβο...   \n",
              "203            Κοινωνία  Σύγκρουση τρένων στα Τέμπη: Κηρύσσεται τριήμερ...   \n",
              "204            Κοινωνία  Σύγκρουση τρένων στα Τέμπη: Εισαγγελέας Εφετών...   \n",
              "205            Κοινωνία  Σύγκρουση τρένων στα Τέμπη – Γ. Αρτοποιός στην...   \n",
              "\n",
              "                          date                   author  \\\n",
              "0    2023-03-08T11:01:55+02:00               \\nNewsroom   \n",
              "1    2023-03-08T07:34:36+02:00               \\nNewsroom   \n",
              "2    2023-03-08T00:03:52+02:00               \\nNewsroom   \n",
              "3    2023-03-08T07:17:28+02:00      \\nΓιάννης Σουλιώτης   \n",
              "4    2023-03-08T07:11:51+02:00   \\nΓιάννης Παπαδόπουλος   \n",
              "..                         ...                      ...   \n",
              "201  2023-03-01T10:54:30+02:00               \\nNewsroom   \n",
              "202  2023-03-01T10:41:17+02:00               \\nNewsroom   \n",
              "203  2023-03-01T10:15:26+02:00               \\nNewsroom   \n",
              "204  2023-03-01T09:53:23+02:00         \\nΙωάννα Μάνδρου   \n",
              "205  2023-03-01T08:36:08+02:00  \\nΔήμητρα Τριανταφύλλου   \n",
              "\n",
              "                                             full_text  \n",
              "0    Ευθεία αντίρρηση για την αντικατάσταση των δικ...  \n",
              "1    Στην Αθήνα μεταβαίνουν σήμερα ο εκτελεστικός δ...  \n",
              "2    Σοβαρά και εκτεταμένα επεισόδια σημειώθηκαν αρ...  \n",
              "3    Επειτα από καταγγελίες η Οικονομική Εισαγγελία...  \n",
              "4    Βράδυ Τρίτης 28 Φεβρουαρίου. Ηταν η πέμπτη συν...  \n",
              "..                                                 ...  \n",
              "201  Σε σοβαρές καταγγελίες για το σιδηροδρομικό δυ...  \n",
              "202  Τα συλλυπητήριά του στον Νίκο Δένδια για το τρ...  \n",
              "203  Με απόφαση του πρωθυπουργού κηρύσσεται τριήμερ...  \n",
              "204  Με εντολή του Εισαγγελέα του Αρείου Πάγου Ισίδ...  \n",
              "205  Για ανθρώπους που εκσφενδονίστηκαν από τα βαγό...  \n",
              "\n",
              "[206 rows x 7 columns]"
            ],
            "text/html": [
              "\n",
              "  <div id=\"df-7e65718b-ac73-4d37-a717-2c2a03fbfc5d\">\n",
              "    <div class=\"colab-df-container\">\n",
              "      <div>\n",
              "<style scoped>\n",
              "    .dataframe tbody tr th:only-of-type {\n",
              "        vertical-align: middle;\n",
              "    }\n",
              "\n",
              "    .dataframe tbody tr th {\n",
              "        vertical-align: top;\n",
              "    }\n",
              "\n",
              "    .dataframe thead th {\n",
              "        text-align: right;\n",
              "    }\n",
              "</style>\n",
              "<table border=\"1\" class=\"dataframe\">\n",
              "  <thead>\n",
              "    <tr style=\"text-align: right;\">\n",
              "      <th></th>\n",
              "      <th>site</th>\n",
              "      <th>url</th>\n",
              "      <th>section</th>\n",
              "      <th>title</th>\n",
              "      <th>date</th>\n",
              "      <th>author</th>\n",
              "      <th>full_text</th>\n",
              "    </tr>\n",
              "  </thead>\n",
              "  <tbody>\n",
              "    <tr>\n",
              "      <th>0</th>\n",
              "      <td>kathimerini.gr</td>\n",
              "      <td>https://www.kathimerini.gr/society/562312186/t...</td>\n",
              "      <td>Κοινωνία</td>\n",
              "      <td>Τραγωδία στα Τέμπη: Συγγενείς εννέα νεκρών ζητ...</td>\n",
              "      <td>2023-03-08T11:01:55+02:00</td>\n",
              "      <td>\\nNewsroom</td>\n",
              "      <td>Ευθεία αντίρρηση για την αντικατάσταση των δικ...</td>\n",
              "    </tr>\n",
              "    <tr>\n",
              "      <th>1</th>\n",
              "      <td>kathimerini.gr</td>\n",
              "      <td>https://www.kathimerini.gr/society/562311997/t...</td>\n",
              "      <td>Κοινωνία</td>\n",
              "      <td>Τραγωδία στα Τέμπη: Στην Αθήνα σήμερα ο επικεφ...</td>\n",
              "      <td>2023-03-08T07:34:36+02:00</td>\n",
              "      <td>\\nNewsroom</td>\n",
              "      <td>Στην Αθήνα μεταβαίνουν σήμερα ο εκτελεστικός δ...</td>\n",
              "    </tr>\n",
              "    <tr>\n",
              "      <th>2</th>\n",
              "      <td>kathimerini.gr</td>\n",
              "      <td>https://www.kathimerini.gr/society/562311928/v...</td>\n",
              "      <td>Κοινωνία</td>\n",
              "      <td>Βόλος: Σοβαρά επεισόδια μετά από πορεία για το...</td>\n",
              "      <td>2023-03-08T00:03:52+02:00</td>\n",
              "      <td>\\nNewsroom</td>\n",
              "      <td>Σοβαρά και εκτεταμένα επεισόδια σημειώθηκαν αρ...</td>\n",
              "    </tr>\n",
              "    <tr>\n",
              "      <th>3</th>\n",
              "      <td>kathimerini.gr</td>\n",
              "      <td>https://www.kathimerini.gr/society/562311403/t...</td>\n",
              "      <td>Κοινωνία</td>\n",
              "      <td>Τραγωδία στα Τέμπη: Το 2021 έγινε έλεγχος για ...</td>\n",
              "      <td>2023-03-08T07:17:28+02:00</td>\n",
              "      <td>\\nΓιάννης Σουλιώτης</td>\n",
              "      <td>Επειτα από καταγγελίες η Οικονομική Εισαγγελία...</td>\n",
              "    </tr>\n",
              "    <tr>\n",
              "      <th>4</th>\n",
              "      <td>kathimerini.gr</td>\n",
              "      <td>https://www.kathimerini.gr/society/562311394/t...</td>\n",
              "      <td>Κοινωνία</td>\n",
              "      <td>Τραγωδία στα Τέμπη: Η βλάβη, η μονοδρόμηση και...</td>\n",
              "      <td>2023-03-08T07:11:51+02:00</td>\n",
              "      <td>\\nΓιάννης Παπαδόπουλος</td>\n",
              "      <td>Βράδυ Τρίτης 28 Φεβρουαρίου. Ηταν η πέμπτη συν...</td>\n",
              "    </tr>\n",
              "    <tr>\n",
              "      <th>...</th>\n",
              "      <td>...</td>\n",
              "      <td>...</td>\n",
              "      <td>...</td>\n",
              "      <td>...</td>\n",
              "      <td>...</td>\n",
              "      <td>...</td>\n",
              "      <td>...</td>\n",
              "    </tr>\n",
              "    <tr>\n",
              "      <th>201</th>\n",
              "      <td>kathimerini.gr</td>\n",
              "      <td>https://www.kathimerini.gr/society/562300477/s...</td>\n",
              "      <td>Κοινωνία</td>\n",
              "      <td>Σύγκρουση τρένων στα Τέμπη: «Γίνονται όλα χειρ...</td>\n",
              "      <td>2023-03-01T10:54:30+02:00</td>\n",
              "      <td>\\nNewsroom</td>\n",
              "      <td>Σε σοβαρές καταγγελίες για το σιδηροδρομικό δυ...</td>\n",
              "    </tr>\n",
              "    <tr>\n",
              "      <th>202</th>\n",
              "      <td>kathimerini.gr</td>\n",
              "      <td>https://www.kathimerini.gr/politics/foreign-po...</td>\n",
              "      <td>Εξωτερική Πολιτική</td>\n",
              "      <td>Σύγκρουση τρένων στα Τέμπη: Συλλυπητήρια Τσαβο...</td>\n",
              "      <td>2023-03-01T10:41:17+02:00</td>\n",
              "      <td>\\nNewsroom</td>\n",
              "      <td>Τα συλλυπητήριά του στον Νίκο Δένδια για το τρ...</td>\n",
              "    </tr>\n",
              "    <tr>\n",
              "      <th>203</th>\n",
              "      <td>kathimerini.gr</td>\n",
              "      <td>https://www.kathimerini.gr/society/562300459/s...</td>\n",
              "      <td>Κοινωνία</td>\n",
              "      <td>Σύγκρουση τρένων στα Τέμπη: Κηρύσσεται τριήμερ...</td>\n",
              "      <td>2023-03-01T10:15:26+02:00</td>\n",
              "      <td>\\nNewsroom</td>\n",
              "      <td>Με απόφαση του πρωθυπουργού κηρύσσεται τριήμερ...</td>\n",
              "    </tr>\n",
              "    <tr>\n",
              "      <th>204</th>\n",
              "      <td>kathimerini.gr</td>\n",
              "      <td>https://www.kathimerini.gr/society/562300423/s...</td>\n",
              "      <td>Κοινωνία</td>\n",
              "      <td>Σύγκρουση τρένων στα Τέμπη: Εισαγγελέας Εφετών...</td>\n",
              "      <td>2023-03-01T09:53:23+02:00</td>\n",
              "      <td>\\nΙωάννα Μάνδρου</td>\n",
              "      <td>Με εντολή του Εισαγγελέα του Αρείου Πάγου Ισίδ...</td>\n",
              "    </tr>\n",
              "    <tr>\n",
              "      <th>205</th>\n",
              "      <td>kathimerini.gr</td>\n",
              "      <td>https://www.kathimerini.gr/society/562300363/s...</td>\n",
              "      <td>Κοινωνία</td>\n",
              "      <td>Σύγκρουση τρένων στα Τέμπη – Γ. Αρτοποιός στην...</td>\n",
              "      <td>2023-03-01T08:36:08+02:00</td>\n",
              "      <td>\\nΔήμητρα Τριανταφύλλου</td>\n",
              "      <td>Για ανθρώπους που εκσφενδονίστηκαν από τα βαγό...</td>\n",
              "    </tr>\n",
              "  </tbody>\n",
              "</table>\n",
              "<p>206 rows × 7 columns</p>\n",
              "</div>\n",
              "      <button class=\"colab-df-convert\" onclick=\"convertToInteractive('df-7e65718b-ac73-4d37-a717-2c2a03fbfc5d')\"\n",
              "              title=\"Convert this dataframe to an interactive table.\"\n",
              "              style=\"display:none;\">\n",
              "        \n",
              "  <svg xmlns=\"http://www.w3.org/2000/svg\" height=\"24px\"viewBox=\"0 0 24 24\"\n",
              "       width=\"24px\">\n",
              "    <path d=\"M0 0h24v24H0V0z\" fill=\"none\"/>\n",
              "    <path d=\"M18.56 5.44l.94 2.06.94-2.06 2.06-.94-2.06-.94-.94-2.06-.94 2.06-2.06.94zm-11 1L8.5 8.5l.94-2.06 2.06-.94-2.06-.94L8.5 2.5l-.94 2.06-2.06.94zm10 10l.94 2.06.94-2.06 2.06-.94-2.06-.94-.94-2.06-.94 2.06-2.06.94z\"/><path d=\"M17.41 7.96l-1.37-1.37c-.4-.4-.92-.59-1.43-.59-.52 0-1.04.2-1.43.59L10.3 9.45l-7.72 7.72c-.78.78-.78 2.05 0 2.83L4 21.41c.39.39.9.59 1.41.59.51 0 1.02-.2 1.41-.59l7.78-7.78 2.81-2.81c.8-.78.8-2.07 0-2.86zM5.41 20L4 18.59l7.72-7.72 1.47 1.35L5.41 20z\"/>\n",
              "  </svg>\n",
              "      </button>\n",
              "      \n",
              "  <style>\n",
              "    .colab-df-container {\n",
              "      display:flex;\n",
              "      flex-wrap:wrap;\n",
              "      gap: 12px;\n",
              "    }\n",
              "\n",
              "    .colab-df-convert {\n",
              "      background-color: #E8F0FE;\n",
              "      border: none;\n",
              "      border-radius: 50%;\n",
              "      cursor: pointer;\n",
              "      display: none;\n",
              "      fill: #1967D2;\n",
              "      height: 32px;\n",
              "      padding: 0 0 0 0;\n",
              "      width: 32px;\n",
              "    }\n",
              "\n",
              "    .colab-df-convert:hover {\n",
              "      background-color: #E2EBFA;\n",
              "      box-shadow: 0px 1px 2px rgba(60, 64, 67, 0.3), 0px 1px 3px 1px rgba(60, 64, 67, 0.15);\n",
              "      fill: #174EA6;\n",
              "    }\n",
              "\n",
              "    [theme=dark] .colab-df-convert {\n",
              "      background-color: #3B4455;\n",
              "      fill: #D2E3FC;\n",
              "    }\n",
              "\n",
              "    [theme=dark] .colab-df-convert:hover {\n",
              "      background-color: #434B5C;\n",
              "      box-shadow: 0px 1px 3px 1px rgba(0, 0, 0, 0.15);\n",
              "      filter: drop-shadow(0px 1px 2px rgba(0, 0, 0, 0.3));\n",
              "      fill: #FFFFFF;\n",
              "    }\n",
              "  </style>\n",
              "\n",
              "      <script>\n",
              "        const buttonEl =\n",
              "          document.querySelector('#df-7e65718b-ac73-4d37-a717-2c2a03fbfc5d button.colab-df-convert');\n",
              "        buttonEl.style.display =\n",
              "          google.colab.kernel.accessAllowed ? 'block' : 'none';\n",
              "\n",
              "        async function convertToInteractive(key) {\n",
              "          const element = document.querySelector('#df-7e65718b-ac73-4d37-a717-2c2a03fbfc5d');\n",
              "          const dataTable =\n",
              "            await google.colab.kernel.invokeFunction('convertToInteractive',\n",
              "                                                     [key], {});\n",
              "          if (!dataTable) return;\n",
              "\n",
              "          const docLinkHtml = 'Like what you see? Visit the ' +\n",
              "            '<a target=\"_blank\" href=https://colab.research.google.com/notebooks/data_table.ipynb>data table notebook</a>'\n",
              "            + ' to learn more about interactive tables.';\n",
              "          element.innerHTML = '';\n",
              "          dataTable['output_type'] = 'display_data';\n",
              "          await google.colab.output.renderOutput(dataTable, element);\n",
              "          const docLink = document.createElement('div');\n",
              "          docLink.innerHTML = docLinkHtml;\n",
              "          element.appendChild(docLink);\n",
              "        }\n",
              "      </script>\n",
              "    </div>\n",
              "  </div>\n",
              "  "
            ]
          },
          "metadata": {},
          "execution_count": 113
        }
      ]
    },
    {
      "cell_type": "code",
      "source": [
        "kathimerini_full_articles_df.to_csv('/content/drive/MyDrive/Colab Notebooks/kathimerini_full_articles_tempi_2023_1-7_3_2023.csv', index=False)"
      ],
      "metadata": {
        "id": "MQFyb8t5edAm"
      },
      "execution_count": 102,
      "outputs": []
    },
    {
      "cell_type": "code",
      "source": [
        "kathimerini_full_articles_df.dtypes"
      ],
      "metadata": {
        "colab": {
          "base_uri": "https://localhost:8080/"
        },
        "id": "7T6oO-8ghTw1",
        "outputId": "283c61b6-7117-4460-8a3c-d3c852f4a7bc"
      },
      "execution_count": 103,
      "outputs": [
        {
          "output_type": "execute_result",
          "data": {
            "text/plain": [
              "site         object\n",
              "url          object\n",
              "section      object\n",
              "title        object\n",
              "date         object\n",
              "author       object\n",
              "full_text    object\n",
              "dtype: object"
            ]
          },
          "metadata": {},
          "execution_count": 103
        }
      ]
    },
    {
      "cell_type": "code",
      "source": [
        "kathimerini_full_articles_df.loc[0, 'full_text']"
      ],
      "metadata": {
        "colab": {
          "base_uri": "https://localhost:8080/",
          "height": 382
        },
        "id": "e-DxvwSafw36",
        "outputId": "b57ac19c-1fde-4d3e-8258-5ec806f2c30b"
      },
      "execution_count": 107,
      "outputs": [
        {
          "output_type": "execute_result",
          "data": {
            "text/plain": [
              "'Ευθεία αντίρρηση για την αντικατάσταση των δικαστικών λειτουργών, που ήδη διενεργούν την έρευνα για το δυστύχημα στα Τέμπη, με εφέτες δηλώνουν οι συγγενείς εννέα νεκρών, διά του συνηγόρου τους, Αλέξη Κούγια. Όπως αναφέρεται σε σχετικό δελτίου Τύπου, σήμερα θα καταθέσουν στον προϊστάμενο της Εισαγγελίας Εφετών Λάρισας αίτημα προκειμένου να εκφράσουν την αντίρρησή τους στον ορισμό εφετών για την ποινική έρευνα και να ζητήσουν αντί αυτού να οριστεί από το Πρωτοδικείο Λάρισας δεύτερος ανακριτής, ο οποίος θα συνδράμει στο έργο της τη δικαστική λειτουργό που χειρίζεται την υπόθεση από την πρώτη στιγμή. «Σήμερα, ενώπιον του Προϊσταμένου της Εισαγγελίας Εφετών Λαρίσης κου Δασκαλοπούλου θα καταθέσουμε δικόγραφο, με το οποίο αφενός μεν θα δηλώνουμε την ευθεία αντίρρησή μας για το ενδεχόμενο της αντικαταστάσεως των ως άνω Δικαστικών και Εισαγγελικών λειτουργών που επιμελούνται μέχρι τώρα της ανακρίσεως και ταχύτατα έχουν προβεί σε εξαιρετικές ανακριτικές πράξεις, όπως διαπιστώσαμε από τη μελέτη της μέχρι τώρα σχηματισθείσης δικογραφίας, και συγχρόνως ζητούμε αντί της αντικαταστάσεως της κας Σούρλα και του κου Τζαμαλή, ο προϊστάμενος του Πρωτοδικείου Λαρίσης να αποφασίσει άμεσα τον διορισμό και δεύτερου τακτικού Ανακριτού για την όσο δυνατόν ταχύτερη διεξαγωγή και ολοκλήρωση της ανακριτικής διαδικασίας», σημειώνεται στο δελτίο Τύπου του γραφείου του κ. Κούγια. Στο δελτίο Τύπου συμπεριλαμβάνεται και το δικόγραφο που θα κατατεθεί, στο οποίο, μεταξύ άλλων, αναφέρεται: «… οι εντολείς μου πληροφορήθηκαν ότι το ανακριτικό έργο αφαιρείται από αυτούς τους δύο λειτουργούς και θα ανατεθεί σε Εφέτη Ανακριτή με γνωμοδοτούντα Εισαγγελέα είτε τον Προϊστάμενο της Εισαγγελίας Εφετών Λάρισας κο Δασκαλόπουλο, ο οποίος συνταξιοδοτείται σε 3 μήνες, είτε κάποιον άλλο Εισαγγελέα Εφετών και ότι οι ελπίδες τους για την ταχύτατη ανακριτική διερεύνηση της υποθέσεως και την ταχύτατη απόδοση ευθυνών σε αυτούς που πρέπει να αποδοθούν, εξανεμίζονται, αφού κάθε φορά που η Δικαιοσύνη ανέθεσε την ανάκριση σε Εφέτες Ανακριτές, με λίγες εξαιρέσεις (όπως στην υπόθεση αυτοκαθάρσεως της Δικαιοσύνης, όπου την ανάκριση διεξήγαγαν δυο Εφέτες Ανακριτές, οι μετέπειτα Αντιπρόεδροι του Αρείου Πάγου κ.κ. Σίδερης και Μπαλτάς), οι ανακρίσεις βάλτωσαν χρονικά και δυστυχώς με τη μετατροπή των κακουργημάτων σε πλημμελήματα τα εγκλήματα παραγράφηκαν, χωρίς ποτέ κανένας να τιμωρηθεί». Επίσης, τονίζεται στο δικόγραφο ότι οι εντολείς του κ. Κούγια «δηλώνουν ότι δεν επιθυμούν την αντικατάσταση ούτε της Πρωτοδίκη κας Σούρλα ούτε του Προϊσταμένου της Εισαγγελίας Πρωτοδικών Λαρίσης κου Τζαμαλή από Εφέτη Ανακριτή και γνωμοδοτούντα Εισαγγελέα Εφετών αντίστοιχα και συγχρόνως αιτούνται όπως την ανακριτική διαδικασία, εκτός της κας Σούρλα και μόνο για λόγους ταχύτητος στην απονομή της Δικαιοσύνης, διά της ταχυτάτης διεξαγωγής του ανακριτικού έργου, ορισθεί να διενεργήσει και δεύτερος Ανακριτής ή Ανακρίτρια από το Πρωτοδικείο Λαρίσης». Ειδήσεις σήμερα Ακολουθήστε το\\xa0kathimerini.gr στο Google News\\xa0και μάθετε πρώτοι όλες τις ειδήσεις Δείτε όλες τις τελευταίες\\xa0Ειδήσεις\\xa0από την Ελλάδα και τον Κόσμο, στο\\xa0kathimerini.gr '"
            ],
            "application/vnd.google.colaboratory.intrinsic+json": {
              "type": "string"
            }
          },
          "metadata": {},
          "execution_count": 107
        }
      ]
    },
    {
      "cell_type": "code",
      "source": [
        "kathimerini_full_articles_df.loc[0, 'date']"
      ],
      "metadata": {
        "colab": {
          "base_uri": "https://localhost:8080/",
          "height": 35
        },
        "id": "4ltf3DUMf6fW",
        "outputId": "9e332540-7821-4053-bc1b-1708045ab8a1"
      },
      "execution_count": 115,
      "outputs": [
        {
          "output_type": "execute_result",
          "data": {
            "text/plain": [
              "'2023-03-08T11:01:55+02:00'"
            ],
            "application/vnd.google.colaboratory.intrinsic+json": {
              "type": "string"
            }
          },
          "metadata": {},
          "execution_count": 115
        }
      ]
    },
    {
      "cell_type": "code",
      "source": [
        "kathimerini_full_articles_df['datetime'] = pd.to_datetime(kathimerini_full_articles_df['date'], format='%Y-%m-%dT%H:%M:%S%z')\n",
        "kathimerini_full_articles_df.head()"
      ],
      "metadata": {
        "colab": {
          "base_uri": "https://localhost:8080/",
          "height": 510
        },
        "id": "N3CmUvpAmws5",
        "outputId": "6aee2619-9e0a-4eae-f353-dcefb2776d92"
      },
      "execution_count": 120,
      "outputs": [
        {
          "output_type": "execute_result",
          "data": {
            "text/plain": [
              "             site                                                url  \\\n",
              "0  kathimerini.gr  https://www.kathimerini.gr/society/562312186/t...   \n",
              "1  kathimerini.gr  https://www.kathimerini.gr/society/562311997/t...   \n",
              "2  kathimerini.gr  https://www.kathimerini.gr/society/562311928/v...   \n",
              "3  kathimerini.gr  https://www.kathimerini.gr/society/562311403/t...   \n",
              "4  kathimerini.gr  https://www.kathimerini.gr/society/562311394/t...   \n",
              "\n",
              "    section                                              title  \\\n",
              "0  Κοινωνία  Τραγωδία στα Τέμπη: Συγγενείς εννέα νεκρών ζητ...   \n",
              "1  Κοινωνία  Τραγωδία στα Τέμπη: Στην Αθήνα σήμερα ο επικεφ...   \n",
              "2  Κοινωνία  Βόλος: Σοβαρά επεισόδια μετά από πορεία για το...   \n",
              "3  Κοινωνία  Τραγωδία στα Τέμπη: Το 2021 έγινε έλεγχος για ...   \n",
              "4  Κοινωνία  Τραγωδία στα Τέμπη: Η βλάβη, η μονοδρόμηση και...   \n",
              "\n",
              "                        date                  author  \\\n",
              "0  2023-03-08T11:01:55+02:00              \\nNewsroom   \n",
              "1  2023-03-08T07:34:36+02:00              \\nNewsroom   \n",
              "2  2023-03-08T00:03:52+02:00              \\nNewsroom   \n",
              "3  2023-03-08T07:17:28+02:00     \\nΓιάννης Σουλιώτης   \n",
              "4  2023-03-08T07:11:51+02:00  \\nΓιάννης Παπαδόπουλος   \n",
              "\n",
              "                                           full_text                  datetime  \n",
              "0  Ευθεία αντίρρηση για την αντικατάσταση των δικ... 2023-03-08 11:01:55+02:00  \n",
              "1  Στην Αθήνα μεταβαίνουν σήμερα ο εκτελεστικός δ... 2023-03-08 07:34:36+02:00  \n",
              "2  Σοβαρά και εκτεταμένα επεισόδια σημειώθηκαν αρ... 2023-03-08 00:03:52+02:00  \n",
              "3  Επειτα από καταγγελίες η Οικονομική Εισαγγελία... 2023-03-08 07:17:28+02:00  \n",
              "4  Βράδυ Τρίτης 28 Φεβρουαρίου. Ηταν η πέμπτη συν... 2023-03-08 07:11:51+02:00  "
            ],
            "text/html": [
              "\n",
              "  <div id=\"df-ae4aabaf-b5d2-4731-87d6-fd2f03c56978\">\n",
              "    <div class=\"colab-df-container\">\n",
              "      <div>\n",
              "<style scoped>\n",
              "    .dataframe tbody tr th:only-of-type {\n",
              "        vertical-align: middle;\n",
              "    }\n",
              "\n",
              "    .dataframe tbody tr th {\n",
              "        vertical-align: top;\n",
              "    }\n",
              "\n",
              "    .dataframe thead th {\n",
              "        text-align: right;\n",
              "    }\n",
              "</style>\n",
              "<table border=\"1\" class=\"dataframe\">\n",
              "  <thead>\n",
              "    <tr style=\"text-align: right;\">\n",
              "      <th></th>\n",
              "      <th>site</th>\n",
              "      <th>url</th>\n",
              "      <th>section</th>\n",
              "      <th>title</th>\n",
              "      <th>date</th>\n",
              "      <th>author</th>\n",
              "      <th>full_text</th>\n",
              "      <th>datetime</th>\n",
              "    </tr>\n",
              "  </thead>\n",
              "  <tbody>\n",
              "    <tr>\n",
              "      <th>0</th>\n",
              "      <td>kathimerini.gr</td>\n",
              "      <td>https://www.kathimerini.gr/society/562312186/t...</td>\n",
              "      <td>Κοινωνία</td>\n",
              "      <td>Τραγωδία στα Τέμπη: Συγγενείς εννέα νεκρών ζητ...</td>\n",
              "      <td>2023-03-08T11:01:55+02:00</td>\n",
              "      <td>\\nNewsroom</td>\n",
              "      <td>Ευθεία αντίρρηση για την αντικατάσταση των δικ...</td>\n",
              "      <td>2023-03-08 11:01:55+02:00</td>\n",
              "    </tr>\n",
              "    <tr>\n",
              "      <th>1</th>\n",
              "      <td>kathimerini.gr</td>\n",
              "      <td>https://www.kathimerini.gr/society/562311997/t...</td>\n",
              "      <td>Κοινωνία</td>\n",
              "      <td>Τραγωδία στα Τέμπη: Στην Αθήνα σήμερα ο επικεφ...</td>\n",
              "      <td>2023-03-08T07:34:36+02:00</td>\n",
              "      <td>\\nNewsroom</td>\n",
              "      <td>Στην Αθήνα μεταβαίνουν σήμερα ο εκτελεστικός δ...</td>\n",
              "      <td>2023-03-08 07:34:36+02:00</td>\n",
              "    </tr>\n",
              "    <tr>\n",
              "      <th>2</th>\n",
              "      <td>kathimerini.gr</td>\n",
              "      <td>https://www.kathimerini.gr/society/562311928/v...</td>\n",
              "      <td>Κοινωνία</td>\n",
              "      <td>Βόλος: Σοβαρά επεισόδια μετά από πορεία για το...</td>\n",
              "      <td>2023-03-08T00:03:52+02:00</td>\n",
              "      <td>\\nNewsroom</td>\n",
              "      <td>Σοβαρά και εκτεταμένα επεισόδια σημειώθηκαν αρ...</td>\n",
              "      <td>2023-03-08 00:03:52+02:00</td>\n",
              "    </tr>\n",
              "    <tr>\n",
              "      <th>3</th>\n",
              "      <td>kathimerini.gr</td>\n",
              "      <td>https://www.kathimerini.gr/society/562311403/t...</td>\n",
              "      <td>Κοινωνία</td>\n",
              "      <td>Τραγωδία στα Τέμπη: Το 2021 έγινε έλεγχος για ...</td>\n",
              "      <td>2023-03-08T07:17:28+02:00</td>\n",
              "      <td>\\nΓιάννης Σουλιώτης</td>\n",
              "      <td>Επειτα από καταγγελίες η Οικονομική Εισαγγελία...</td>\n",
              "      <td>2023-03-08 07:17:28+02:00</td>\n",
              "    </tr>\n",
              "    <tr>\n",
              "      <th>4</th>\n",
              "      <td>kathimerini.gr</td>\n",
              "      <td>https://www.kathimerini.gr/society/562311394/t...</td>\n",
              "      <td>Κοινωνία</td>\n",
              "      <td>Τραγωδία στα Τέμπη: Η βλάβη, η μονοδρόμηση και...</td>\n",
              "      <td>2023-03-08T07:11:51+02:00</td>\n",
              "      <td>\\nΓιάννης Παπαδόπουλος</td>\n",
              "      <td>Βράδυ Τρίτης 28 Φεβρουαρίου. Ηταν η πέμπτη συν...</td>\n",
              "      <td>2023-03-08 07:11:51+02:00</td>\n",
              "    </tr>\n",
              "  </tbody>\n",
              "</table>\n",
              "</div>\n",
              "      <button class=\"colab-df-convert\" onclick=\"convertToInteractive('df-ae4aabaf-b5d2-4731-87d6-fd2f03c56978')\"\n",
              "              title=\"Convert this dataframe to an interactive table.\"\n",
              "              style=\"display:none;\">\n",
              "        \n",
              "  <svg xmlns=\"http://www.w3.org/2000/svg\" height=\"24px\"viewBox=\"0 0 24 24\"\n",
              "       width=\"24px\">\n",
              "    <path d=\"M0 0h24v24H0V0z\" fill=\"none\"/>\n",
              "    <path d=\"M18.56 5.44l.94 2.06.94-2.06 2.06-.94-2.06-.94-.94-2.06-.94 2.06-2.06.94zm-11 1L8.5 8.5l.94-2.06 2.06-.94-2.06-.94L8.5 2.5l-.94 2.06-2.06.94zm10 10l.94 2.06.94-2.06 2.06-.94-2.06-.94-.94-2.06-.94 2.06-2.06.94z\"/><path d=\"M17.41 7.96l-1.37-1.37c-.4-.4-.92-.59-1.43-.59-.52 0-1.04.2-1.43.59L10.3 9.45l-7.72 7.72c-.78.78-.78 2.05 0 2.83L4 21.41c.39.39.9.59 1.41.59.51 0 1.02-.2 1.41-.59l7.78-7.78 2.81-2.81c.8-.78.8-2.07 0-2.86zM5.41 20L4 18.59l7.72-7.72 1.47 1.35L5.41 20z\"/>\n",
              "  </svg>\n",
              "      </button>\n",
              "      \n",
              "  <style>\n",
              "    .colab-df-container {\n",
              "      display:flex;\n",
              "      flex-wrap:wrap;\n",
              "      gap: 12px;\n",
              "    }\n",
              "\n",
              "    .colab-df-convert {\n",
              "      background-color: #E8F0FE;\n",
              "      border: none;\n",
              "      border-radius: 50%;\n",
              "      cursor: pointer;\n",
              "      display: none;\n",
              "      fill: #1967D2;\n",
              "      height: 32px;\n",
              "      padding: 0 0 0 0;\n",
              "      width: 32px;\n",
              "    }\n",
              "\n",
              "    .colab-df-convert:hover {\n",
              "      background-color: #E2EBFA;\n",
              "      box-shadow: 0px 1px 2px rgba(60, 64, 67, 0.3), 0px 1px 3px 1px rgba(60, 64, 67, 0.15);\n",
              "      fill: #174EA6;\n",
              "    }\n",
              "\n",
              "    [theme=dark] .colab-df-convert {\n",
              "      background-color: #3B4455;\n",
              "      fill: #D2E3FC;\n",
              "    }\n",
              "\n",
              "    [theme=dark] .colab-df-convert:hover {\n",
              "      background-color: #434B5C;\n",
              "      box-shadow: 0px 1px 3px 1px rgba(0, 0, 0, 0.15);\n",
              "      filter: drop-shadow(0px 1px 2px rgba(0, 0, 0, 0.3));\n",
              "      fill: #FFFFFF;\n",
              "    }\n",
              "  </style>\n",
              "\n",
              "      <script>\n",
              "        const buttonEl =\n",
              "          document.querySelector('#df-ae4aabaf-b5d2-4731-87d6-fd2f03c56978 button.colab-df-convert');\n",
              "        buttonEl.style.display =\n",
              "          google.colab.kernel.accessAllowed ? 'block' : 'none';\n",
              "\n",
              "        async function convertToInteractive(key) {\n",
              "          const element = document.querySelector('#df-ae4aabaf-b5d2-4731-87d6-fd2f03c56978');\n",
              "          const dataTable =\n",
              "            await google.colab.kernel.invokeFunction('convertToInteractive',\n",
              "                                                     [key], {});\n",
              "          if (!dataTable) return;\n",
              "\n",
              "          const docLinkHtml = 'Like what you see? Visit the ' +\n",
              "            '<a target=\"_blank\" href=https://colab.research.google.com/notebooks/data_table.ipynb>data table notebook</a>'\n",
              "            + ' to learn more about interactive tables.';\n",
              "          element.innerHTML = '';\n",
              "          dataTable['output_type'] = 'display_data';\n",
              "          await google.colab.output.renderOutput(dataTable, element);\n",
              "          const docLink = document.createElement('div');\n",
              "          docLink.innerHTML = docLinkHtml;\n",
              "          element.appendChild(docLink);\n",
              "        }\n",
              "      </script>\n",
              "    </div>\n",
              "  </div>\n",
              "  "
            ]
          },
          "metadata": {},
          "execution_count": 120
        }
      ]
    },
    {
      "cell_type": "code",
      "source": [
        "kathimerini_full_articles_df.dtypes"
      ],
      "metadata": {
        "colab": {
          "base_uri": "https://localhost:8080/"
        },
        "id": "UwzHn7iXmfWB",
        "outputId": "f10f6b46-2314-45de-8e26-1b8dd7598249"
      },
      "execution_count": 121,
      "outputs": [
        {
          "output_type": "execute_result",
          "data": {
            "text/plain": [
              "site                                        object\n",
              "url                                         object\n",
              "section                                     object\n",
              "title                                       object\n",
              "date                                        object\n",
              "author                                      object\n",
              "full_text                                   object\n",
              "datetime     datetime64[ns, pytz.FixedOffset(120)]\n",
              "dtype: object"
            ]
          },
          "metadata": {},
          "execution_count": 121
        }
      ]
    }
  ]
}